{
  "nbformat": 4,
  "nbformat_minor": 0,
  "metadata": {
    "colab": {
      "name": "progetto_programmazione_data_intensive.ipynb",
      "provenance": [],
      "collapsed_sections": []
    },
    "kernelspec": {
      "name": "python3",
      "display_name": "Python 3"
    },
    "language_info": {
      "name": "python"
    }
  },
  "cells": [
    {
      "cell_type": "markdown",
      "metadata": {
        "id": "NTnvjFIBaMB9"
      },
      "source": [
        "# Predire la presenza o assenza del diabete nel paziente\n",
        "\n",
        "**Programmazione di Applicazioni Data Intensive**\n",
        "\n",
        "Progetto preliminare all'esame\n",
        "\n",
        "A.a 2020-2021\n",
        "\n",
        "Sofia Belloni - sofia.belloni@studio.unibo.it\n"
      ]
    },
    {
      "cell_type": "markdown",
      "metadata": {
        "id": "weym5G6JdCan"
      },
      "source": [
        "## Descrizione del problema\n",
        "\n",
        "Si vuole realizzare un modello che consenta di predire se un paziente ha o meno il diabete, sulla base di determinate misurazioni diagnostiche incluse nel dataset analizzato.\n",
        "\n",
        "Il dataset in esame, ottenuto da [Kaggle](https://www.kaggle.com/vikasukani/diabetes-data-set), contiene informazioni sullo stato di salute di 2000 pazienti."
      ]
    },
    {
      "cell_type": "markdown",
      "metadata": {
        "id": "KbsaV3OVbDWG"
      },
      "source": [
        "**Caricamento Librerie**\n",
        "\n",
        "Per prima cosa importiamo le librerie principali usando i loro alias convenzionali, in particolare importiamo:\n",
        "*   matplotlib e seaborn per creare grafici\n",
        "*   NumPy per creare e operare su array a N dimensioni\n",
        "*   pandas per caricare e manipolare dati tabulari\n",
        "\n",
        "Eventuali ulteriori librerie verranno importate in seguito quando necessario."
      ]
    },
    {
      "cell_type": "code",
      "metadata": {
        "id": "7x8IrDoWcVyx"
      },
      "source": [
        "import matplotlib.pyplot as plt\n",
        "import seaborn as sns\n",
        "import numpy as np\n",
        "import pandas as pd\n",
        "\n",
        "%matplotlib inline"
      ],
      "execution_count": 599,
      "outputs": []
    },
    {
      "cell_type": "markdown",
      "metadata": {
        "id": "78pYwI_ClVGe"
      },
      "source": [
        "**Caricamento dati** \n",
        "\n",
        "Il dataset è stato successivamente caricato su BitBucket in modo da renderlo sempre recuperabile. \n",
        "\n",
        "Carichiamo quindi il dataset e riportiamo il numero di istanze non nulle, il tipo delle feature che compongono i dati raccolti nel dataset e le dimensioni di questo in memoria, osservando come il consumo di memoria sia irrisorio."
      ]
    },
    {
      "cell_type": "code",
      "metadata": {
        "id": "Ib3IJ7JpfeoA"
      },
      "source": [
        "URL = \"https://bitbucket.org/sofiabelloni/progetto_dia/raw/2761cb56a075d0d780453980c7c067ea886892a5/diabetes-dataset.csv\"\n",
        "data = pd.read_csv(URL, sep=\",\")"
      ],
      "execution_count": 600,
      "outputs": []
    },
    {
      "cell_type": "code",
      "metadata": {
        "colab": {
          "base_uri": "https://localhost:8080/",
          "height": 0
        },
        "id": "tn8uhUbFjeDN",
        "outputId": "1febd2b2-b4bb-4aa8-d9ca-b86381c307fe"
      },
      "source": [
        "data.info(verbose=False, memory_usage=\"deep\")"
      ],
      "execution_count": 601,
      "outputs": [
        {
          "output_type": "stream",
          "name": "stdout",
          "text": [
            "<class 'pandas.core.frame.DataFrame'>\n",
            "RangeIndex: 2000 entries, 0 to 1999\n",
            "Columns: 9 entries, Pregnancies to Outcome\n",
            "dtypes: float64(2), int64(7)\n",
            "memory usage: 140.8 KB\n"
          ]
        }
      ]
    },
    {
      "cell_type": "markdown",
      "metadata": {
        "id": "kkNczLG9m0Mx"
      },
      "source": [
        "**Significato delle feature**"
      ]
    },
    {
      "cell_type": "code",
      "metadata": {
        "colab": {
          "base_uri": "https://localhost:8080/",
          "height": 204
        },
        "id": "CZPk45DsnVTL",
        "outputId": "22999142-b1cc-44d8-fa5f-564724afe21b"
      },
      "source": [
        "data.head()"
      ],
      "execution_count": 602,
      "outputs": [
        {
          "output_type": "execute_result",
          "data": {
            "text/html": [
              "<div>\n",
              "<style scoped>\n",
              "    .dataframe tbody tr th:only-of-type {\n",
              "        vertical-align: middle;\n",
              "    }\n",
              "\n",
              "    .dataframe tbody tr th {\n",
              "        vertical-align: top;\n",
              "    }\n",
              "\n",
              "    .dataframe thead th {\n",
              "        text-align: right;\n",
              "    }\n",
              "</style>\n",
              "<table border=\"1\" class=\"dataframe\">\n",
              "  <thead>\n",
              "    <tr style=\"text-align: right;\">\n",
              "      <th></th>\n",
              "      <th>Pregnancies</th>\n",
              "      <th>Glucose</th>\n",
              "      <th>BloodPressure</th>\n",
              "      <th>SkinThickness</th>\n",
              "      <th>Insulin</th>\n",
              "      <th>BMI</th>\n",
              "      <th>DiabetesPedigreeFunction</th>\n",
              "      <th>Age</th>\n",
              "      <th>Outcome</th>\n",
              "    </tr>\n",
              "  </thead>\n",
              "  <tbody>\n",
              "    <tr>\n",
              "      <th>0</th>\n",
              "      <td>2</td>\n",
              "      <td>138</td>\n",
              "      <td>62</td>\n",
              "      <td>35</td>\n",
              "      <td>0</td>\n",
              "      <td>33.6</td>\n",
              "      <td>0.127</td>\n",
              "      <td>47</td>\n",
              "      <td>1</td>\n",
              "    </tr>\n",
              "    <tr>\n",
              "      <th>1</th>\n",
              "      <td>0</td>\n",
              "      <td>84</td>\n",
              "      <td>82</td>\n",
              "      <td>31</td>\n",
              "      <td>125</td>\n",
              "      <td>38.2</td>\n",
              "      <td>0.233</td>\n",
              "      <td>23</td>\n",
              "      <td>0</td>\n",
              "    </tr>\n",
              "    <tr>\n",
              "      <th>2</th>\n",
              "      <td>0</td>\n",
              "      <td>145</td>\n",
              "      <td>0</td>\n",
              "      <td>0</td>\n",
              "      <td>0</td>\n",
              "      <td>44.2</td>\n",
              "      <td>0.630</td>\n",
              "      <td>31</td>\n",
              "      <td>1</td>\n",
              "    </tr>\n",
              "    <tr>\n",
              "      <th>3</th>\n",
              "      <td>0</td>\n",
              "      <td>135</td>\n",
              "      <td>68</td>\n",
              "      <td>42</td>\n",
              "      <td>250</td>\n",
              "      <td>42.3</td>\n",
              "      <td>0.365</td>\n",
              "      <td>24</td>\n",
              "      <td>1</td>\n",
              "    </tr>\n",
              "    <tr>\n",
              "      <th>4</th>\n",
              "      <td>1</td>\n",
              "      <td>139</td>\n",
              "      <td>62</td>\n",
              "      <td>41</td>\n",
              "      <td>480</td>\n",
              "      <td>40.7</td>\n",
              "      <td>0.536</td>\n",
              "      <td>21</td>\n",
              "      <td>0</td>\n",
              "    </tr>\n",
              "  </tbody>\n",
              "</table>\n",
              "</div>"
            ],
            "text/plain": [
              "   Pregnancies  Glucose  BloodPressure  ...  DiabetesPedigreeFunction  Age  Outcome\n",
              "0            2      138             62  ...                     0.127   47        1\n",
              "1            0       84             82  ...                     0.233   23        0\n",
              "2            0      145              0  ...                     0.630   31        1\n",
              "3            0      135             68  ...                     0.365   24        1\n",
              "4            1      139             62  ...                     0.536   21        0\n",
              "\n",
              "[5 rows x 9 columns]"
            ]
          },
          "metadata": {},
          "execution_count": 602
        }
      ]
    },
    {
      "cell_type": "markdown",
      "metadata": {
        "id": "0RTodkp7navR"
      },
      "source": [
        "Come riportato su Kaggle, nello specifico le feature sono:\n",
        "\n",
        "*   *Pregnancies* (Gravidanze): Numero di gravidanze\n",
        "*   *Glucose* (Glucosio): concentrazione plasmatica di glucosio a 2 ore in un test orale di tolleranza al glucosio\n",
        "*   *BloodPressure* (Pressione sanguigna): Pressione sanguigna diastolica (mmHg)\n",
        "*   *SkinThickness* (Spessore della pelle): Spessore della piega cutanea del tricipite (mm)\n",
        "*   *Insulin* (Insulina): insulina sierica (mu U/ml)\n",
        "*   *BMI*: Indice di massa corporea (peso in kg/(altezza in m)^2)\n",
        "*   *DiabetesPedigreeFunction*: Funzione che valuta la probabilità di diabete in base alla storia familiare\n",
        "*   *Age*: Età del paziente\n",
        "*   *Outcome* (Risultato): indica la presenza (1) o assenza (0) del diabete\n",
        "\n",
        "La variabile target è *Outcome* che è binaria: come sopra specificato, infatti, vale 1 se il paziente ha il diabete, in caso contrario assume valore 0.\n",
        "\n"
      ]
    },
    {
      "cell_type": "markdown",
      "metadata": {
        "id": "JNqDFPoiuVRs"
      },
      "source": [
        "## Analisi esplorativa dei dati\n"
      ]
    },
    {
      "cell_type": "markdown",
      "metadata": {
        "id": "0hDKXL4_BbF6"
      },
      "source": [
        "**Rilevazione di valori mancanti** \n",
        "\n",
        "Osserviamo se nel dataset sono presenti valori nulli: in questo caso non sono presenti per cui non è necessario trattarli."
      ]
    },
    {
      "cell_type": "code",
      "metadata": {
        "colab": {
          "base_uri": "https://localhost:8080/",
          "height": 0
        },
        "id": "sAziEMME7NK1",
        "outputId": "5339ce89-a977-4b3c-97e6-8036396f6d90"
      },
      "source": [
        "data.isna().sum()"
      ],
      "execution_count": 603,
      "outputs": [
        {
          "output_type": "execute_result",
          "data": {
            "text/plain": [
              "Pregnancies                 0\n",
              "Glucose                     0\n",
              "BloodPressure               0\n",
              "SkinThickness               0\n",
              "Insulin                     0\n",
              "BMI                         0\n",
              "DiabetesPedigreeFunction    0\n",
              "Age                         0\n",
              "Outcome                     0\n",
              "dtype: int64"
            ]
          },
          "metadata": {},
          "execution_count": 603
        }
      ]
    },
    {
      "cell_type": "markdown",
      "metadata": {
        "id": "ngDE9wMG8kiW"
      },
      "source": [
        "**Analisi dei dati** \n",
        "\n",
        "Procediamo con l'analisi dei dati, osservandone i principali parametri quali media, deviazione standard, quartili, minimo e massimo."
      ]
    },
    {
      "cell_type": "code",
      "metadata": {
        "colab": {
          "base_uri": "https://localhost:8080/",
          "height": 297
        },
        "id": "zc4t-gr8ukOo",
        "outputId": "6b80c66a-d569-4e2c-a0d2-90e205ff7ebc"
      },
      "source": [
        "data.describe()"
      ],
      "execution_count": 604,
      "outputs": [
        {
          "output_type": "execute_result",
          "data": {
            "text/html": [
              "<div>\n",
              "<style scoped>\n",
              "    .dataframe tbody tr th:only-of-type {\n",
              "        vertical-align: middle;\n",
              "    }\n",
              "\n",
              "    .dataframe tbody tr th {\n",
              "        vertical-align: top;\n",
              "    }\n",
              "\n",
              "    .dataframe thead th {\n",
              "        text-align: right;\n",
              "    }\n",
              "</style>\n",
              "<table border=\"1\" class=\"dataframe\">\n",
              "  <thead>\n",
              "    <tr style=\"text-align: right;\">\n",
              "      <th></th>\n",
              "      <th>Pregnancies</th>\n",
              "      <th>Glucose</th>\n",
              "      <th>BloodPressure</th>\n",
              "      <th>SkinThickness</th>\n",
              "      <th>Insulin</th>\n",
              "      <th>BMI</th>\n",
              "      <th>DiabetesPedigreeFunction</th>\n",
              "      <th>Age</th>\n",
              "      <th>Outcome</th>\n",
              "    </tr>\n",
              "  </thead>\n",
              "  <tbody>\n",
              "    <tr>\n",
              "      <th>count</th>\n",
              "      <td>2000.000000</td>\n",
              "      <td>2000.000000</td>\n",
              "      <td>2000.000000</td>\n",
              "      <td>2000.000000</td>\n",
              "      <td>2000.000000</td>\n",
              "      <td>2000.000000</td>\n",
              "      <td>2000.000000</td>\n",
              "      <td>2000.000000</td>\n",
              "      <td>2000.000000</td>\n",
              "    </tr>\n",
              "    <tr>\n",
              "      <th>mean</th>\n",
              "      <td>3.703500</td>\n",
              "      <td>121.182500</td>\n",
              "      <td>69.145500</td>\n",
              "      <td>20.935000</td>\n",
              "      <td>80.254000</td>\n",
              "      <td>32.193000</td>\n",
              "      <td>0.470930</td>\n",
              "      <td>33.090500</td>\n",
              "      <td>0.342000</td>\n",
              "    </tr>\n",
              "    <tr>\n",
              "      <th>std</th>\n",
              "      <td>3.306063</td>\n",
              "      <td>32.068636</td>\n",
              "      <td>19.188315</td>\n",
              "      <td>16.103243</td>\n",
              "      <td>111.180534</td>\n",
              "      <td>8.149901</td>\n",
              "      <td>0.323553</td>\n",
              "      <td>11.786423</td>\n",
              "      <td>0.474498</td>\n",
              "    </tr>\n",
              "    <tr>\n",
              "      <th>min</th>\n",
              "      <td>0.000000</td>\n",
              "      <td>0.000000</td>\n",
              "      <td>0.000000</td>\n",
              "      <td>0.000000</td>\n",
              "      <td>0.000000</td>\n",
              "      <td>0.000000</td>\n",
              "      <td>0.078000</td>\n",
              "      <td>21.000000</td>\n",
              "      <td>0.000000</td>\n",
              "    </tr>\n",
              "    <tr>\n",
              "      <th>25%</th>\n",
              "      <td>1.000000</td>\n",
              "      <td>99.000000</td>\n",
              "      <td>63.500000</td>\n",
              "      <td>0.000000</td>\n",
              "      <td>0.000000</td>\n",
              "      <td>27.375000</td>\n",
              "      <td>0.244000</td>\n",
              "      <td>24.000000</td>\n",
              "      <td>0.000000</td>\n",
              "    </tr>\n",
              "    <tr>\n",
              "      <th>50%</th>\n",
              "      <td>3.000000</td>\n",
              "      <td>117.000000</td>\n",
              "      <td>72.000000</td>\n",
              "      <td>23.000000</td>\n",
              "      <td>40.000000</td>\n",
              "      <td>32.300000</td>\n",
              "      <td>0.376000</td>\n",
              "      <td>29.000000</td>\n",
              "      <td>0.000000</td>\n",
              "    </tr>\n",
              "    <tr>\n",
              "      <th>75%</th>\n",
              "      <td>6.000000</td>\n",
              "      <td>141.000000</td>\n",
              "      <td>80.000000</td>\n",
              "      <td>32.000000</td>\n",
              "      <td>130.000000</td>\n",
              "      <td>36.800000</td>\n",
              "      <td>0.624000</td>\n",
              "      <td>40.000000</td>\n",
              "      <td>1.000000</td>\n",
              "    </tr>\n",
              "    <tr>\n",
              "      <th>max</th>\n",
              "      <td>17.000000</td>\n",
              "      <td>199.000000</td>\n",
              "      <td>122.000000</td>\n",
              "      <td>110.000000</td>\n",
              "      <td>744.000000</td>\n",
              "      <td>80.600000</td>\n",
              "      <td>2.420000</td>\n",
              "      <td>81.000000</td>\n",
              "      <td>1.000000</td>\n",
              "    </tr>\n",
              "  </tbody>\n",
              "</table>\n",
              "</div>"
            ],
            "text/plain": [
              "       Pregnancies      Glucose  ...          Age      Outcome\n",
              "count  2000.000000  2000.000000  ...  2000.000000  2000.000000\n",
              "mean      3.703500   121.182500  ...    33.090500     0.342000\n",
              "std       3.306063    32.068636  ...    11.786423     0.474498\n",
              "min       0.000000     0.000000  ...    21.000000     0.000000\n",
              "25%       1.000000    99.000000  ...    24.000000     0.000000\n",
              "50%       3.000000   117.000000  ...    29.000000     0.000000\n",
              "75%       6.000000   141.000000  ...    40.000000     1.000000\n",
              "max      17.000000   199.000000  ...    81.000000     1.000000\n",
              "\n",
              "[8 rows x 9 columns]"
            ]
          },
          "metadata": {},
          "execution_count": 604
        }
      ]
    },
    {
      "cell_type": "markdown",
      "metadata": {
        "id": "uLrAGAue7TqT"
      },
      "source": [
        "Per poter meglio evidenziari le due classi (presenza o assenza del diabete), definiamo un dizionario che associ un colore a ciascuna classe.\n",
        "\n",
        "In particolare, creiamo un dizionario che associa al valore 0 il colore verde e al valore 1 il colore rosso.\n",
        "\n",
        "Successivamente, con il metodo *map*, convertiamo ciascun elemento in una serie secondo il dizionario dato, ottenendo così una serie di valori \"green\" e \"red\"."
      ]
    },
    {
      "cell_type": "code",
      "metadata": {
        "colab": {
          "base_uri": "https://localhost:8080/",
          "height": 0
        },
        "id": "Ne81ODXk7T35",
        "outputId": "c3b8e07c-b4b4-41e4-9586-83baba2fbed5"
      },
      "source": [
        "diabetes_presence_color = \"red\"\n",
        "diabetes_absence_color = \"green\"\n",
        "\n",
        "diagnosis_colors = [diabetes_absence_color, diabetes_presence_color]\n",
        "diagnosis_color_map = {0: diabetes_absence_color, 1: diabetes_presence_color}\n",
        "diagnosis_colors_values = data[\"Outcome\"].map(diagnosis_color_map)\n",
        "diagnosis_colors_values.head()"
      ],
      "execution_count": 605,
      "outputs": [
        {
          "output_type": "execute_result",
          "data": {
            "text/plain": [
              "0      red\n",
              "1    green\n",
              "2      red\n",
              "3      red\n",
              "4    green\n",
              "Name: Outcome, dtype: object"
            ]
          },
          "metadata": {},
          "execution_count": 605
        }
      ]
    },
    {
      "cell_type": "markdown",
      "metadata": {
        "id": "mSEfXQwK_dzn"
      },
      "source": [
        "Rappresentiamo quindi in un grafico i valori della variabile target. \n",
        "Dal grafico a torta è possibile notare come i valori di *Outcome* non siano molto bilanciati, in quanto circa 2/3 dei pazienti non hanno il diabete. Questo potrebbe essere un problema nella fase di modellazione e valutazione del modello."
      ]
    },
    {
      "cell_type": "code",
      "metadata": {
        "id": "VuNqOcdk6u2i",
        "colab": {
          "base_uri": "https://localhost:8080/",
          "height": 316
        },
        "outputId": "6ba92cef-2a39-49b8-e952-f0bba166a821"
      },
      "source": [
        "print(data[\"Outcome\"].value_counts())\n",
        "data['Outcome'].value_counts().plot.pie(autopct='%1.1f%%', colors=diagnosis_colors)"
      ],
      "execution_count": 606,
      "outputs": [
        {
          "output_type": "stream",
          "name": "stdout",
          "text": [
            "0    1316\n",
            "1     684\n",
            "Name: Outcome, dtype: int64\n"
          ]
        },
        {
          "output_type": "execute_result",
          "data": {
            "text/plain": [
              "<matplotlib.axes._subplots.AxesSubplot at 0x7fbb1616b510>"
            ]
          },
          "metadata": {},
          "execution_count": 606
        },
        {
          "output_type": "display_data",
          "data": {
            "image/png": "[encoded data removed]",
            "text/plain": [
              "<Figure size 432x288 with 1 Axes>"
            ]
          },
          "metadata": {}
        }
      ]
    },
    {
      "cell_type": "markdown",
      "metadata": {
        "id": "Tk0azKUgDGiB"
      },
      "source": [
        "Dalla descrizione generale del Dataset si può notare come l'età dei paziente varia tra un minimo di 21 anni ed un massimo di 81. \n",
        "\n",
        "Utilizziamo la funzione *cut* di Pandas per osservare la distribuzione dei valori dividendo l'intervallo in 6 fasce di uguale ampiezza.\n",
        "\n",
        "In questo modo è possibile notare come la maggior parte dei pazienti abbia un'età compresa tra i 21 e i 31 anni."
      ]
    },
    {
      "cell_type": "code",
      "metadata": {
        "colab": {
          "base_uri": "https://localhost:8080/",
          "height": 0
        },
        "id": "zJL08kKAFyBt",
        "outputId": "42afbf86-ef9f-4b76-f1f7-325bc7d4a1d9"
      },
      "source": [
        "pd.cut(data[\"Age\"], 6).value_counts()"
      ],
      "execution_count": 607,
      "outputs": [
        {
          "output_type": "execute_result",
          "data": {
            "text/plain": [
              "(20.94, 31.0]    1164\n",
              "(31.0, 41.0]      396\n",
              "(41.0, 51.0]      258\n",
              "(51.0, 61.0]      108\n",
              "(61.0, 71.0]       68\n",
              "(71.0, 81.0]        6\n",
              "Name: Age, dtype: int64"
            ]
          },
          "metadata": {},
          "execution_count": 607
        }
      ]
    },
    {
      "cell_type": "markdown",
      "metadata": {
        "id": "9xQPsniIcelQ"
      },
      "source": [
        "Riportiamo ora in un istogramma i valori di tutte le misurazioni diagnostiche del dataset per meglio comprendere le caratteristiche dei pazienti a cui si fa riferimento."
      ]
    },
    {
      "cell_type": "code",
      "metadata": {
        "colab": {
          "base_uri": "https://localhost:8080/",
          "height": 910
        },
        "id": "W56EjHRg0n9-",
        "outputId": "16d37d6e-2db9-4ba3-d007-cbe87233efd8"
      },
      "source": [
        "plt.figure(figsize=(20, 15))\n",
        "\n",
        "plt.subplot(3, 3, 1)\n",
        "plt.title('Pregnancies')\n",
        "plt.hist(data['Pregnancies'], label=\"Pregnancies\", color='pink')\n",
        "plt.ylabel('count')\n",
        "plt.xlabel('number of pregnancies')\n",
        "\n",
        "plt.subplot(3, 3, 2)\n",
        "plt.title('Glucose')\n",
        "plt.hist(data['Glucose'], label=\"Glucose\", color=\"gray\")\n",
        "plt.ylabel('count')\n",
        "plt.xlabel('concentration')\n",
        "\n",
        "plt.subplot(3, 3, 3)\n",
        "plt.title('BloodPressure')\n",
        "plt.hist(data['BloodPressure'], label=\"BloodPressure\", color=\"red\")\n",
        "plt.ylabel('count')\n",
        "plt.xlabel('mmHg')\n",
        "\n",
        "plt.subplot(3, 3, 4)\n",
        "plt.title('SkinThickness')\n",
        "plt.hist(data['SkinThickness'], label=\"SkinThickness\", color=\"orange\")\n",
        "plt.ylabel('count')\n",
        "plt.xlabel('mm')\n",
        "\n",
        "plt.subplot(3, 3, 5)\n",
        "plt.title('Insulin')\n",
        "plt.hist(data['Insulin'], label=\"Insulin\", color=\"green\")\n",
        "plt.ylabel('count')\n",
        "plt.xlabel('mu U/ml')\n",
        "\n",
        "plt.subplot(3, 3, 6)\n",
        "plt.title('BMI')\n",
        "plt.hist(data['BMI'], label=\"BMI\", color=\"black\")\n",
        "plt.ylabel('count')\n",
        "plt.xlabel('kg/m2')\n",
        "\n",
        "plt.subplot(3, 3, 7)\n",
        "plt.title('DiabetesPedigreeFunction')\n",
        "plt.hist(data['DiabetesPedigreeFunction'], label=\"DiabetesPedigreeFunction\", color=\"magenta\")\n",
        "plt.ylabel('count')\n",
        "plt.xlabel('value')\n",
        "\n",
        "plt.subplot(3, 3, 8)\n",
        "plt.title('Age')\n",
        "plt.hist(data['Age'], label=\"Age\", color=\"yellow\")\n",
        "plt.ylabel('count')\n",
        "plt.xlabel('years')\n"
      ],
      "execution_count": 608,
      "outputs": [
        {
          "output_type": "execute_result",
          "data": {
            "text/plain": [
              "Text(0.5, 0, 'years')"
            ]
          },
          "metadata": {},
          "execution_count": 608
        },
        {
          "output_type": "display_data",
          "data": {
            "image/png": "[encoded data removed]",
            "text/plain": [
              "<Figure size 1440x1080 with 8 Axes>"
            ]
          },
          "metadata": {
            "needs_background": "light"
          }
        }
      ]
    },
    {
      "cell_type": "markdown",
      "metadata": {
        "id": "pTlWdAvX6wSH"
      },
      "source": [
        "Osserviamo quindi ad esempio che la maggior parte dei pazienti:\n",
        "\n",
        "*   Ha avuto meno di 2 gravidanze\n",
        "*   Ha un indice di massa corporea intorno a 30 kg/m2\n",
        "*   Ha meno di 30 anni\n",
        "*   Ha una bassa probabilità del diabete in base alla storia familiare"
      ]
    },
    {
      "cell_type": "markdown",
      "metadata": {
        "id": "6pi7BRa_jPZu"
      },
      "source": [
        "**Correlazione tra feature**\n",
        "\n",
        "Osserviamo ora nei seguenti grafici a barre la correlazioni tra la presenza del diabete e le diverse misurazioni diagnostiche del dataset."
      ]
    },
    {
      "cell_type": "code",
      "metadata": {
        "colab": {
          "base_uri": "https://localhost:8080/",
          "height": 2762
        },
        "id": "FBCUmsMAi86r",
        "outputId": "44e9e950-2fb8-4ff4-9f50-46dc361e50ec"
      },
      "source": [
        "fig, axes = plt.subplots(nrows=4, ncols=2, sharex=False, sharey=False, figsize=(22, 50))\n",
        "data.groupby([pd.cut(data[\"Pregnancies\"], bins=18), \"Outcome\"]).size().unstack(\"Outcome\").plot.bar(stacked=False, color=diagnosis_colors, ax=axes[0, 0])\n",
        "data.groupby([pd.cut(data[\"Glucose\"], bins=10), \"Outcome\"]).size().unstack(\"Outcome\").plot.bar(stacked=False, color=diagnosis_colors, ax=axes[0, 1])\n",
        "data.groupby([pd.cut(data[\"BloodPressure\"], bins=5), \"Outcome\"]).size().unstack(\"Outcome\").plot.bar(stacked=False, color=diagnosis_colors, ax=axes[1, 0])\n",
        "data.groupby([pd.cut(data[\"SkinThickness\"], bins=3), \"Outcome\"]).size().unstack(\"Outcome\").plot.bar(stacked=False, color=diagnosis_colors, ax=axes[1, 1])\n",
        "data.groupby([pd.cut(data[\"Insulin\"], bins=7), \"Outcome\"]).size().unstack(\"Outcome\").plot.bar(stacked=False, color=diagnosis_colors, ax=axes[2, 0])\n",
        "data.groupby([pd.cut(data[\"BMI\"], bins=7), \"Outcome\"]).size().unstack(\"Outcome\").plot.bar(stacked=False, color=diagnosis_colors, ax=axes[2, 1])\n",
        "data.groupby([pd.cut(data[\"DiabetesPedigreeFunction\"], bins=4), \"Outcome\"]).size().unstack(\"Outcome\").plot.bar(stacked=False, color=diagnosis_colors, ax=axes[3, 0])\n",
        "data.groupby([pd.cut(data[\"Age\"], bins=6), \"Outcome\"]).size().unstack(\"Outcome\").plot.bar(stacked=False, color=diagnosis_colors, ax=axes[3, 1])\n",
        "\n",
        "axes[0, 0].set_title(\"Pregnancies\")\n",
        "axes[0, 1].set_title(\"Glucose\")\n",
        "axes[1, 0].set_title(\"BloodPressure\")\n",
        "axes[1, 1].set_title(\"SkinThickness\")\n",
        "axes[2, 0].set_title(\"Insulin\")\n",
        "axes[2, 1].set_title(\"BMI\")\n",
        "axes[3, 0].set_title(\"DiabetesPedigreeFunction\")\n",
        "axes[3, 1].set_title(\"Age\")\n",
        "\n",
        "axes[0, 0].set_xlabel(\"\")\n",
        "axes[0, 1].set_xlabel(\"\")\n",
        "axes[1, 0].set_xlabel(\"\")\n",
        "axes[1, 1].set_xlabel(\"\")\n",
        "axes[2, 0].set_xlabel(\"\")\n",
        "axes[2, 1].set_xlabel(\"\")\n",
        "axes[3, 0].set_xlabel(\"\")\n",
        "axes[3, 1].set_xlabel(\"\")"
      ],
      "execution_count": 609,
      "outputs": [
        {
          "output_type": "execute_result",
          "data": {
            "text/plain": [
              "Text(0.5, 0, '')"
            ]
          },
          "metadata": {},
          "execution_count": 609
        },
        {
          "output_type": "display_data",
          "data": {
            "image/png": "[encoded data removed]",
            "text/plain": [
              "<Figure size 1584x3600 with 8 Axes>"
            ]
          },
          "metadata": {
            "needs_background": "light"
          }
        }
      ]
    },
    {
      "cell_type": "markdown",
      "metadata": {
        "id": "2zgtBPGM9ZiV"
      },
      "source": [
        "E' possibile osservare che tendenzialmente un aumento dei valori porta ad una maggior presenza di pazienti malati; tuttavia si ha una correlazione particolarmente evidente tra i valori di glucosio e la presenza del diabete. All'aumentare della concentrazione di glucosio nel plasma infatti i pazienti malati sono più di quelli sani. Ciò è particolarmente evidente per valori superiori a 110mg/dl."
      ]
    },
    {
      "cell_type": "markdown",
      "metadata": {
        "id": "UnxgLiLOICjw"
      },
      "source": [
        "Visualizziamo ora rispettivamente la matrice ed il grafico di correlazione per renderci conto di come le varie features sono tra loro correlate."
      ]
    },
    {
      "cell_type": "code",
      "metadata": {
        "colab": {
          "base_uri": "https://localhost:8080/",
          "height": 328
        },
        "id": "uCs1CcMuBald",
        "outputId": "305f41c0-e73e-480e-feae-9d01c7ab211b"
      },
      "source": [
        "data.corr()"
      ],
      "execution_count": 610,
      "outputs": [
        {
          "output_type": "execute_result",
          "data": {
            "text/html": [
              "<div>\n",
              "<style scoped>\n",
              "    .dataframe tbody tr th:only-of-type {\n",
              "        vertical-align: middle;\n",
              "    }\n",
              "\n",
              "    .dataframe tbody tr th {\n",
              "        vertical-align: top;\n",
              "    }\n",
              "\n",
              "    .dataframe thead th {\n",
              "        text-align: right;\n",
              "    }\n",
              "</style>\n",
              "<table border=\"1\" class=\"dataframe\">\n",
              "  <thead>\n",
              "    <tr style=\"text-align: right;\">\n",
              "      <th></th>\n",
              "      <th>Pregnancies</th>\n",
              "      <th>Glucose</th>\n",
              "      <th>BloodPressure</th>\n",
              "      <th>SkinThickness</th>\n",
              "      <th>Insulin</th>\n",
              "      <th>BMI</th>\n",
              "      <th>DiabetesPedigreeFunction</th>\n",
              "      <th>Age</th>\n",
              "      <th>Outcome</th>\n",
              "    </tr>\n",
              "  </thead>\n",
              "  <tbody>\n",
              "    <tr>\n",
              "      <th>Pregnancies</th>\n",
              "      <td>1.000000</td>\n",
              "      <td>0.120405</td>\n",
              "      <td>0.149672</td>\n",
              "      <td>-0.063375</td>\n",
              "      <td>-0.076600</td>\n",
              "      <td>0.019475</td>\n",
              "      <td>-0.025453</td>\n",
              "      <td>0.539457</td>\n",
              "      <td>0.224437</td>\n",
              "    </tr>\n",
              "    <tr>\n",
              "      <th>Glucose</th>\n",
              "      <td>0.120405</td>\n",
              "      <td>1.000000</td>\n",
              "      <td>0.138044</td>\n",
              "      <td>0.062368</td>\n",
              "      <td>0.320371</td>\n",
              "      <td>0.226864</td>\n",
              "      <td>0.123243</td>\n",
              "      <td>0.254496</td>\n",
              "      <td>0.458421</td>\n",
              "    </tr>\n",
              "    <tr>\n",
              "      <th>BloodPressure</th>\n",
              "      <td>0.149672</td>\n",
              "      <td>0.138044</td>\n",
              "      <td>1.000000</td>\n",
              "      <td>0.198800</td>\n",
              "      <td>0.087384</td>\n",
              "      <td>0.281545</td>\n",
              "      <td>0.051331</td>\n",
              "      <td>0.238375</td>\n",
              "      <td>0.075958</td>\n",
              "    </tr>\n",
              "    <tr>\n",
              "      <th>SkinThickness</th>\n",
              "      <td>-0.063375</td>\n",
              "      <td>0.062368</td>\n",
              "      <td>0.198800</td>\n",
              "      <td>1.000000</td>\n",
              "      <td>0.448859</td>\n",
              "      <td>0.393760</td>\n",
              "      <td>0.178299</td>\n",
              "      <td>-0.111034</td>\n",
              "      <td>0.076040</td>\n",
              "    </tr>\n",
              "    <tr>\n",
              "      <th>Insulin</th>\n",
              "      <td>-0.076600</td>\n",
              "      <td>0.320371</td>\n",
              "      <td>0.087384</td>\n",
              "      <td>0.448859</td>\n",
              "      <td>1.000000</td>\n",
              "      <td>0.223012</td>\n",
              "      <td>0.192719</td>\n",
              "      <td>-0.085879</td>\n",
              "      <td>0.120924</td>\n",
              "    </tr>\n",
              "    <tr>\n",
              "      <th>BMI</th>\n",
              "      <td>0.019475</td>\n",
              "      <td>0.226864</td>\n",
              "      <td>0.281545</td>\n",
              "      <td>0.393760</td>\n",
              "      <td>0.223012</td>\n",
              "      <td>1.000000</td>\n",
              "      <td>0.125719</td>\n",
              "      <td>0.038987</td>\n",
              "      <td>0.276726</td>\n",
              "    </tr>\n",
              "    <tr>\n",
              "      <th>DiabetesPedigreeFunction</th>\n",
              "      <td>-0.025453</td>\n",
              "      <td>0.123243</td>\n",
              "      <td>0.051331</td>\n",
              "      <td>0.178299</td>\n",
              "      <td>0.192719</td>\n",
              "      <td>0.125719</td>\n",
              "      <td>1.000000</td>\n",
              "      <td>0.026569</td>\n",
              "      <td>0.155459</td>\n",
              "    </tr>\n",
              "    <tr>\n",
              "      <th>Age</th>\n",
              "      <td>0.539457</td>\n",
              "      <td>0.254496</td>\n",
              "      <td>0.238375</td>\n",
              "      <td>-0.111034</td>\n",
              "      <td>-0.085879</td>\n",
              "      <td>0.038987</td>\n",
              "      <td>0.026569</td>\n",
              "      <td>1.000000</td>\n",
              "      <td>0.236509</td>\n",
              "    </tr>\n",
              "    <tr>\n",
              "      <th>Outcome</th>\n",
              "      <td>0.224437</td>\n",
              "      <td>0.458421</td>\n",
              "      <td>0.075958</td>\n",
              "      <td>0.076040</td>\n",
              "      <td>0.120924</td>\n",
              "      <td>0.276726</td>\n",
              "      <td>0.155459</td>\n",
              "      <td>0.236509</td>\n",
              "      <td>1.000000</td>\n",
              "    </tr>\n",
              "  </tbody>\n",
              "</table>\n",
              "</div>"
            ],
            "text/plain": [
              "                          Pregnancies   Glucose  ...       Age   Outcome\n",
              "Pregnancies                  1.000000  0.120405  ...  0.539457  0.224437\n",
              "Glucose                      0.120405  1.000000  ...  0.254496  0.458421\n",
              "BloodPressure                0.149672  0.138044  ...  0.238375  0.075958\n",
              "SkinThickness               -0.063375  0.062368  ... -0.111034  0.076040\n",
              "Insulin                     -0.076600  0.320371  ... -0.085879  0.120924\n",
              "BMI                          0.019475  0.226864  ...  0.038987  0.276726\n",
              "DiabetesPedigreeFunction    -0.025453  0.123243  ...  0.026569  0.155459\n",
              "Age                          0.539457  0.254496  ...  1.000000  0.236509\n",
              "Outcome                      0.224437  0.458421  ...  0.236509  1.000000\n",
              "\n",
              "[9 rows x 9 columns]"
            ]
          },
          "metadata": {},
          "execution_count": 610
        }
      ]
    },
    {
      "cell_type": "code",
      "metadata": {
        "colab": {
          "base_uri": "https://localhost:8080/",
          "height": 499
        },
        "id": "60UYCkuIET6e",
        "outputId": "56726ba7-4cf3-4137-a0fd-024018ece3ac"
      },
      "source": [
        "plt.figure(figsize = (10,6))\n",
        "sns.heatmap(data.corr(), mask = np.triu(np.ones_like(data.corr(), dtype=bool)), cmap = sns.diverging_palette(30, 350, as_cmap=True), annot=True, vmax=.5, center=0, linewidths=.5);"
      ],
      "execution_count": 611,
      "outputs": [
        {
          "output_type": "display_data",
          "data": {
            "image/png": "[encoded data removed]",
            "text/plain": [
              "<Figure size 720x432 with 2 Axes>"
            ]
          },
          "metadata": {
            "needs_background": "light"
          }
        }
      ]
    },
    {
      "cell_type": "markdown",
      "metadata": {
        "id": "lroZH7loIWFL"
      },
      "source": [
        "Come ci aspettavamo infatti la variabile maggiormente correlata con la presenza del diabete è la concentrazione di glucosio. \n",
        "\n",
        "E' possibile notare come anche l'indice di massa corporea e l'età abbiano una notevole importanza, mentre variabili quali Pressione sanguigna e Spessore della pelle sono praticamente irrilevanti.\n"
      ]
    },
    {
      "cell_type": "markdown",
      "metadata": {
        "id": "ic5qUavFQ_zk"
      },
      "source": [
        "## Standardizzazione ed individuazione delle feature più rilevanti"
      ]
    },
    {
      "cell_type": "markdown",
      "metadata": {
        "id": "9pE07ssOXxMp"
      },
      "source": [
        "Per prima cosa importiamo le librerie che ci serviranno in questa parte."
      ]
    },
    {
      "cell_type": "code",
      "metadata": {
        "id": "58tM6k5rT1rB"
      },
      "source": [
        "from sklearn.model_selection import train_test_split\n",
        "from sklearn.metrics import confusion_matrix\n",
        "from sklearn.linear_model import Perceptron\n",
        "from sklearn.pipeline import Pipeline\n",
        "from sklearn.preprocessing import StandardScaler\n",
        "from sklearn.model_selection import KFold, StratifiedKFold"
      ],
      "execution_count": 612,
      "outputs": []
    },
    {
      "cell_type": "markdown",
      "metadata": {
        "id": "SESn4SuhSO4J"
      },
      "source": [
        "Selezioniamo i dati su cui lavorare e li suddividiamo in un training set ed in un validation set con la funzione *train_test_split*"
      ]
    },
    {
      "cell_type": "code",
      "metadata": {
        "id": "FSF8LuzUQ_I7"
      },
      "source": [
        "X = data.drop(\"Outcome\", axis=1)\n",
        "y = data[\"Outcome\"]\n",
        "\n",
        "X_train, X_val, y_train, y_val = train_test_split(\n",
        "    X, y,             # dati da suddividere\n",
        "    test_size=1/3,    # proporzione: 2/3 training, 1/3 validation\n",
        "    random_state=42   # seed per la riproducibilità\n",
        ")"
      ],
      "execution_count": 613,
      "outputs": []
    },
    {
      "cell_type": "markdown",
      "metadata": {
        "id": "txM6r16KZtIR"
      },
      "source": [
        "Procediamo quindi addestrando un modello di classificazione automatico.\n",
        "\n",
        "Partiamo da un modello *Perceptron*, un algoritmo di apprendimento molto semplice, concettualmente simile alla discesa gradiente.\n",
        "\n",
        "In questo modo, date  $n$ variabili $x_1,\\ldots,x_n$, è possibile individuare un iperpiano di classificazione descritto dall'equazione:\n",
        "$$ w_1\\cdot x_1+\\ldots+w_n\\cdot x_n+b = 0 $$\n",
        "\n",
        "o in forma vettoriale: $$ \\mathbf{w}\\cdot\\mathbf{x}+b = 0 $$\n",
        "avente valori ottimali per il vettore $\\mathbf{w}$ (_weights_, pesi) e per il termine $b$ (_bias_, distanza dell'iperpiano dall'origine)."
      ]
    },
    {
      "cell_type": "code",
      "metadata": {
        "id": "HSHSaErLTF-q"
      },
      "source": [
        "model = Pipeline([\n",
        "    (\"model\",  Perceptron(random_state=42))\n",
        "])"
      ],
      "execution_count": 614,
      "outputs": []
    },
    {
      "cell_type": "markdown",
      "metadata": {
        "id": "h8lkyGAMIcOs"
      },
      "source": [
        "Addestriamo il modello  appena creato  sul training set e visualizziamone l'**accuratezza**, ovvero la percentuale di osservazioni del validation set di cui il modello predice correttamente la classe. Questo modello classifica correttamente circa il 67% di istanze del training set e circa il 65% delle istanze del validation set. Tale valore può essere sicuramente migliorato."
      ]
    },
    {
      "cell_type": "code",
      "metadata": {
        "colab": {
          "base_uri": "https://localhost:8080/",
          "height": 0
        },
        "id": "rs_RHikoTtRX",
        "outputId": "ff36d01e-0b7a-4351-9955-65198222bcca"
      },
      "source": [
        "model.fit(X_train, y_train)\n",
        "model.score(X_train, y_train)"
      ],
      "execution_count": 615,
      "outputs": [
        {
          "output_type": "execute_result",
          "data": {
            "text/plain": [
              "0.6789197299324832"
            ]
          },
          "metadata": {},
          "execution_count": 615
        }
      ]
    },
    {
      "cell_type": "code",
      "metadata": {
        "colab": {
          "base_uri": "https://localhost:8080/",
          "height": 0
        },
        "id": "q2g_C6VMZO7Y",
        "outputId": "f6a48a27-c99f-4593-ea1c-060662a10491"
      },
      "source": [
        "model.score(X_val, y_val)"
      ],
      "execution_count": 616,
      "outputs": [
        {
          "output_type": "execute_result",
          "data": {
            "text/plain": [
              "0.6596701649175413"
            ]
          },
          "metadata": {},
          "execution_count": 616
        }
      ]
    },
    {
      "cell_type": "markdown",
      "metadata": {
        "id": "Y7BShU70JV5E"
      },
      "source": [
        "Possiamo trovare i valori dei pesi  **w**  e del bias  **b**  rispettivamente negli attributi coef_[0] e intercept_[0]"
      ]
    },
    {
      "cell_type": "code",
      "metadata": {
        "colab": {
          "base_uri": "https://localhost:8080/",
          "height": 0
        },
        "id": "2IpJzocTT9eL",
        "outputId": "6f2bf138-7d70-450a-8d13-5f7f9933f6cf"
      },
      "source": [
        "pd.Series(model.named_steps[\"model\"].coef_[0], index= X_train.columns)"
      ],
      "execution_count": 617,
      "outputs": [
        {
          "output_type": "execute_result",
          "data": {
            "text/plain": [
              "Pregnancies                 1272.000\n",
              "Glucose                      232.000\n",
              "BloodPressure               -409.000\n",
              "SkinThickness               -128.000\n",
              "Insulin                     -155.000\n",
              "BMI                          -18.400\n",
              "DiabetesPedigreeFunction      38.973\n",
              "Age                         -211.000\n",
              "dtype: float64"
            ]
          },
          "metadata": {},
          "execution_count": 617
        }
      ]
    },
    {
      "cell_type": "code",
      "metadata": {
        "colab": {
          "base_uri": "https://localhost:8080/",
          "height": 0
        },
        "id": "MBkIqQxknIjC",
        "outputId": "ee98f20c-c0c9-4423-ff08-d2b4505c2935"
      },
      "source": [
        "print(\"b: {:.5}\".format(model.named_steps[\"model\"].intercept_[0]))"
      ],
      "execution_count": 618,
      "outputs": [
        {
          "output_type": "stream",
          "name": "stdout",
          "text": [
            "b: -509.0\n"
          ]
        }
      ]
    },
    {
      "cell_type": "markdown",
      "metadata": {
        "id": "5gFdgz_CdTVq"
      },
      "source": [
        "Di seguito è invece riportata la matrice di confusione di questo modello, dalla quale è possibile notare come sia presente un numero molto elevato di falsi negativi."
      ]
    },
    {
      "cell_type": "code",
      "metadata": {
        "colab": {
          "base_uri": "https://localhost:8080/",
          "height": 111
        },
        "id": "l0hMMRKYoKuv",
        "outputId": "4735431f-160e-4120-eab4-d8071de3c335"
      },
      "source": [
        "y_pred = model.predict(X_val)\n",
        "cm = confusion_matrix(y_val, y_pred)\n",
        "pd.DataFrame(cm, index=model.named_steps[\"model\"].classes_, columns=model.named_steps[\"model\"].classes_)"
      ],
      "execution_count": 619,
      "outputs": [
        {
          "output_type": "execute_result",
          "data": {
            "text/html": [
              "<div>\n",
              "<style scoped>\n",
              "    .dataframe tbody tr th:only-of-type {\n",
              "        vertical-align: middle;\n",
              "    }\n",
              "\n",
              "    .dataframe tbody tr th {\n",
              "        vertical-align: top;\n",
              "    }\n",
              "\n",
              "    .dataframe thead th {\n",
              "        text-align: right;\n",
              "    }\n",
              "</style>\n",
              "<table border=\"1\" class=\"dataframe\">\n",
              "  <thead>\n",
              "    <tr style=\"text-align: right;\">\n",
              "      <th></th>\n",
              "      <th>0</th>\n",
              "      <th>1</th>\n",
              "    </tr>\n",
              "  </thead>\n",
              "  <tbody>\n",
              "    <tr>\n",
              "      <th>0</th>\n",
              "      <td>388</td>\n",
              "      <td>47</td>\n",
              "    </tr>\n",
              "    <tr>\n",
              "      <th>1</th>\n",
              "      <td>180</td>\n",
              "      <td>52</td>\n",
              "    </tr>\n",
              "  </tbody>\n",
              "</table>\n",
              "</div>"
            ],
            "text/plain": [
              "     0   1\n",
              "0  388  47\n",
              "1  180  52"
            ]
          },
          "metadata": {},
          "execution_count": 619
        }
      ]
    },
    {
      "cell_type": "markdown",
      "metadata": {
        "id": "8zYOKAsMo8g-"
      },
      "source": [
        "Per migliorare il modello proviamo ad effettuare la **standardizzazione** dei dati."
      ]
    },
    {
      "cell_type": "code",
      "metadata": {
        "colab": {
          "base_uri": "https://localhost:8080/",
          "height": 0
        },
        "id": "gu41_385T_3W",
        "outputId": "1d83d1b8-1b6d-42e2-b68e-584c85dcc7aa"
      },
      "source": [
        "std_model = Pipeline([\n",
        "    (\"scaler\", StandardScaler()),\n",
        "    (\"model\",  Perceptron())\n",
        "])\n",
        "std_model.fit(X_train, y_train)\n",
        "std_model.score(X_train, y_train)\n"
      ],
      "execution_count": 620,
      "outputs": [
        {
          "output_type": "execute_result",
          "data": {
            "text/plain": [
              "0.7321830457614403"
            ]
          },
          "metadata": {},
          "execution_count": 620
        }
      ]
    },
    {
      "cell_type": "code",
      "metadata": {
        "colab": {
          "base_uri": "https://localhost:8080/",
          "height": 0
        },
        "id": "utrp-0ZTZISC",
        "outputId": "481470cf-3a49-4c77-c679-27e6fff1a553"
      },
      "source": [
        "std_model.score(X_val, y_val)"
      ],
      "execution_count": 621,
      "outputs": [
        {
          "output_type": "execute_result",
          "data": {
            "text/plain": [
              "0.7076461769115442"
            ]
          },
          "metadata": {},
          "execution_count": 621
        }
      ]
    },
    {
      "cell_type": "markdown",
      "metadata": {
        "id": "_6BlkOI8qgpQ"
      },
      "source": [
        "La standardizzazione ha portato ad un miglioramento dell'accuratezza del modello, che ora classifica correttamente circa il 70% delle istanze del validation set. \n",
        "\n",
        "Nella precedente fase di analisi esplorativa dei dati, osservando la matrice di correlazione, avevamo notato come alcune feature erano scarsamente correlate con la presenza della malattia nel paziente. \n",
        "\n",
        "Per questo motivo proviamo ad aggiungere la **regolarizzazione con norma L1** per individuare le variabili più rilevanti."
      ]
    },
    {
      "cell_type": "code",
      "metadata": {
        "colab": {
          "base_uri": "https://localhost:8080/",
          "height": 0
        },
        "id": "jI-JkubfUJzp",
        "outputId": "84f7eede-1a16-4294-cc16-38112c1449a0"
      },
      "source": [
        "std_l1_model = Pipeline([\n",
        "    (\"scaler\", StandardScaler()),\n",
        "    (\"model\",  Perceptron(penalty=\"l1\"))\n",
        "])\n",
        "\n",
        "std_l1_model.fit(X_train, y_train)\n",
        "std_l1_model.score(X_val, y_val)"
      ],
      "execution_count": 622,
      "outputs": [
        {
          "output_type": "execute_result",
          "data": {
            "text/plain": [
              "0.7976011994002998"
            ]
          },
          "metadata": {},
          "execution_count": 622
        }
      ]
    },
    {
      "cell_type": "code",
      "metadata": {
        "colab": {
          "base_uri": "https://localhost:8080/",
          "height": 0
        },
        "id": "74M2Z1VHZDDR",
        "outputId": "890b824b-0645-444c-bc68-27da1c0678c8"
      },
      "source": [
        "std_l1_model.score(X_train, y_train)"
      ],
      "execution_count": 623,
      "outputs": [
        {
          "output_type": "execute_result",
          "data": {
            "text/plain": [
              "0.7456864216054013"
            ]
          },
          "metadata": {},
          "execution_count": 623
        }
      ]
    },
    {
      "cell_type": "code",
      "metadata": {
        "colab": {
          "base_uri": "https://localhost:8080/",
          "height": 0
        },
        "id": "S2UMdfvYUjLW",
        "outputId": "a61491d5-16b6-4960-9d38-648a6cb6b4b3"
      },
      "source": [
        "pd.Series(std_l1_model.named_steps[\"model\"].coef_[0], index= X_train.columns)"
      ],
      "execution_count": 624,
      "outputs": [
        {
          "output_type": "execute_result",
          "data": {
            "text/plain": [
              "Pregnancies                 1.039743\n",
              "Glucose                     2.178262\n",
              "BloodPressure               0.000000\n",
              "SkinThickness               0.000000\n",
              "Insulin                     0.000000\n",
              "BMI                         1.446835\n",
              "DiabetesPedigreeFunction    2.481410\n",
              "Age                         0.000000\n",
              "dtype: float64"
            ]
          },
          "metadata": {},
          "execution_count": 624
        }
      ]
    },
    {
      "cell_type": "markdown",
      "metadata": {
        "id": "bYGjkL3Uwss2"
      },
      "source": [
        "Questo modello non solo risulta essere il più accurato, con un accuratezza dell'80% (15% più accurato rispetto al primo modello individuato) ma consente anche di comprendere quali siano le variabili più rilevanti.\n",
        "\n",
        "La concentrazione di glucosio si conferma infatti una feature molto rilevante, mentre, come avevamo già notato, variabili quali Pressione sanguigna e Spessore della pelle sono irrilevanti."
      ]
    },
    {
      "cell_type": "markdown",
      "metadata": {
        "id": "rPEd9eXtToqu"
      },
      "source": [
        "Proviamo quindi a creare un nuovo DataFrame in cui vengono escluse le feature *BloodPressure* e *SkinThickness* in quanto sia nell'ultimo modello che secondo la matrice di correlazione erano tra le variabili meno rilevanti.\n",
        "\n"
      ]
    },
    {
      "cell_type": "code",
      "metadata": {
        "colab": {
          "base_uri": "https://localhost:8080/",
          "height": 204
        },
        "id": "J3ViEMabKRwJ",
        "outputId": "e9b1a78c-c63c-4fa8-9bd8-8f8a4eb73bd4"
      },
      "source": [
        "data_mod = data[['Pregnancies','Glucose', 'Insulin', 'BMI', 'DiabetesPedigreeFunction', 'Age', 'Outcome']]\n",
        "data_mod.head()"
      ],
      "execution_count": 625,
      "outputs": [
        {
          "output_type": "execute_result",
          "data": {
            "text/html": [
              "<div>\n",
              "<style scoped>\n",
              "    .dataframe tbody tr th:only-of-type {\n",
              "        vertical-align: middle;\n",
              "    }\n",
              "\n",
              "    .dataframe tbody tr th {\n",
              "        vertical-align: top;\n",
              "    }\n",
              "\n",
              "    .dataframe thead th {\n",
              "        text-align: right;\n",
              "    }\n",
              "</style>\n",
              "<table border=\"1\" class=\"dataframe\">\n",
              "  <thead>\n",
              "    <tr style=\"text-align: right;\">\n",
              "      <th></th>\n",
              "      <th>Pregnancies</th>\n",
              "      <th>Glucose</th>\n",
              "      <th>Insulin</th>\n",
              "      <th>BMI</th>\n",
              "      <th>DiabetesPedigreeFunction</th>\n",
              "      <th>Age</th>\n",
              "      <th>Outcome</th>\n",
              "    </tr>\n",
              "  </thead>\n",
              "  <tbody>\n",
              "    <tr>\n",
              "      <th>0</th>\n",
              "      <td>2</td>\n",
              "      <td>138</td>\n",
              "      <td>0</td>\n",
              "      <td>33.6</td>\n",
              "      <td>0.127</td>\n",
              "      <td>47</td>\n",
              "      <td>1</td>\n",
              "    </tr>\n",
              "    <tr>\n",
              "      <th>1</th>\n",
              "      <td>0</td>\n",
              "      <td>84</td>\n",
              "      <td>125</td>\n",
              "      <td>38.2</td>\n",
              "      <td>0.233</td>\n",
              "      <td>23</td>\n",
              "      <td>0</td>\n",
              "    </tr>\n",
              "    <tr>\n",
              "      <th>2</th>\n",
              "      <td>0</td>\n",
              "      <td>145</td>\n",
              "      <td>0</td>\n",
              "      <td>44.2</td>\n",
              "      <td>0.630</td>\n",
              "      <td>31</td>\n",
              "      <td>1</td>\n",
              "    </tr>\n",
              "    <tr>\n",
              "      <th>3</th>\n",
              "      <td>0</td>\n",
              "      <td>135</td>\n",
              "      <td>250</td>\n",
              "      <td>42.3</td>\n",
              "      <td>0.365</td>\n",
              "      <td>24</td>\n",
              "      <td>1</td>\n",
              "    </tr>\n",
              "    <tr>\n",
              "      <th>4</th>\n",
              "      <td>1</td>\n",
              "      <td>139</td>\n",
              "      <td>480</td>\n",
              "      <td>40.7</td>\n",
              "      <td>0.536</td>\n",
              "      <td>21</td>\n",
              "      <td>0</td>\n",
              "    </tr>\n",
              "  </tbody>\n",
              "</table>\n",
              "</div>"
            ],
            "text/plain": [
              "   Pregnancies  Glucose  Insulin   BMI  DiabetesPedigreeFunction  Age  Outcome\n",
              "0            2      138        0  33.6                     0.127   47        1\n",
              "1            0       84      125  38.2                     0.233   23        0\n",
              "2            0      145        0  44.2                     0.630   31        1\n",
              "3            0      135      250  42.3                     0.365   24        1\n",
              "4            1      139      480  40.7                     0.536   21        0"
            ]
          },
          "metadata": {},
          "execution_count": 625
        }
      ]
    },
    {
      "cell_type": "markdown",
      "metadata": {
        "id": "hPSNUjyVVxuS"
      },
      "source": [
        "Selezioniamo i nuovi dati su cui lavorare e li suddividiamo in un training set ed in un validation set.\n",
        "\n",
        "Testiamo quindi i modelli *model* e *std_model* con i nuovi valori.\n",
        "\n",
        "Osserviamo che anche se con *model* si ha un piccolo aumento di accuratezza, con *std_model* questa diminuisce notevolemente. \n",
        "\n",
        "I modelli di learning generati successivamente si baseranno per questo su tutte le feature del dataset."
      ]
    },
    {
      "cell_type": "code",
      "metadata": {
        "id": "xkT13CeyKc6V"
      },
      "source": [
        "X2 = data_mod.drop([\"Outcome\"], axis=1)\n",
        "y2 = data_mod[\"Outcome\"]\n",
        "\n",
        "X_train2, X_val2, y_train2, y_val2 = train_test_split(X2, y2, test_size=1/3, random_state=42)"
      ],
      "execution_count": 626,
      "outputs": []
    },
    {
      "cell_type": "code",
      "metadata": {
        "colab": {
          "base_uri": "https://localhost:8080/",
          "height": 0
        },
        "id": "vPh4eyJuK2J1",
        "outputId": "51eca8ad-c8a3-4627-c45d-57ba45970325"
      },
      "source": [
        "model.fit(X_train2, y_train2)\n",
        "model.score(X_val2, y_val2)"
      ],
      "execution_count": 627,
      "outputs": [
        {
          "output_type": "execute_result",
          "data": {
            "text/plain": [
              "0.6611694152923538"
            ]
          },
          "metadata": {},
          "execution_count": 627
        }
      ]
    },
    {
      "cell_type": "code",
      "metadata": {
        "colab": {
          "base_uri": "https://localhost:8080/",
          "height": 0
        },
        "id": "6PPKYuY5LLeR",
        "outputId": "c1f62860-4b46-4b24-f554-c759070ba448"
      },
      "source": [
        "std_model.fit(X_train2, y_train2)\n",
        "std_model.score(X_val2, y_val2)"
      ],
      "execution_count": 628,
      "outputs": [
        {
          "output_type": "execute_result",
          "data": {
            "text/plain": [
              "0.5847076461769115"
            ]
          },
          "metadata": {},
          "execution_count": 628
        }
      ]
    },
    {
      "cell_type": "markdown",
      "metadata": {
        "id": "VVIzlocEDQgY"
      },
      "source": [
        "## Modellazione\n",
        "\n",
        "Per prima cosa importiamo le librerie che ci serviranno in questa parte."
      ]
    },
    {
      "cell_type": "code",
      "metadata": {
        "id": "7Xvi9wKeIyRu"
      },
      "source": [
        "from sklearn.model_selection import KFold\n",
        "from sklearn.model_selection import cross_val_score\n",
        "from sklearn.model_selection import GridSearchCV\n",
        "from sklearn.linear_model import LogisticRegression\n",
        "from sklearn.svm import SVC\n",
        "from sklearn.tree import DecisionTreeClassifier\n",
        "import math\n",
        "from sklearn.metrics import confusion_matrix,accuracy_score,f1_score\n",
        "from sklearn.metrics import classification_report, mean_squared_error\n",
        "from statsmodels.stats.proportion import proportion_confint\n",
        "from sklearn.ensemble import RandomForestClassifier"
      ],
      "execution_count": 629,
      "outputs": []
    },
    {
      "cell_type": "markdown",
      "metadata": {
        "id": "XVq1ePALEgPA"
      },
      "source": [
        "Tramite Grid Search e Stratified-K-fold cross validation generiamo modelli differenti in grado di stimare il valore migliore per gli iperparametri e per ognuno di essi ne calcoliamo l'accuratezza."
      ]
    },
    {
      "cell_type": "markdown",
      "metadata": {
        "id": "0Bg5kgtwGLfP"
      },
      "source": [
        "Creiamo sia uno splitter StratifiedKFold che garantisce uguale distribuzione delle classi tra un fold e l'altro."
      ]
    },
    {
      "cell_type": "code",
      "metadata": {
        "colab": {
          "base_uri": "https://localhost:8080/",
          "height": 0
        },
        "id": "q0qBQ0TGArtz",
        "outputId": "f90e110f-ded7-4b15-c5c1-3905661cdadb"
      },
      "source": [
        "skf = StratifiedKFold(3, shuffle=True, random_state=42)\n",
        "for train, val in skf.split(X_train, y_train):\n",
        "    print(y_train.iloc[val].value_counts())"
      ],
      "execution_count": 630,
      "outputs": [
        {
          "output_type": "stream",
          "name": "stdout",
          "text": [
            "0    294\n",
            "1    151\n",
            "Name: Outcome, dtype: int64\n",
            "0    293\n",
            "1    151\n",
            "Name: Outcome, dtype: int64\n",
            "0    294\n",
            "1    150\n",
            "Name: Outcome, dtype: int64\n"
          ]
        }
      ]
    },
    {
      "cell_type": "markdown",
      "metadata": {
        "id": "_N_i0FV2GcA3"
      },
      "source": [
        "Definiamo quindi una funzione *grid_search_with_stratifiedKFold* che, dato un modello, una \"griglia\" con liste di valori possibili per gli iperparametri di un modello e uno splitter StratifiedKFold, testi tutte le combinazioni possibili. Al termine visualizza l'accuratezza sul validation set, i miglior parametri individuati ed effettua una valutazione del modello a regime con calcolo degli intervalli di confidenza predittivi fissata la confidenza passata in input."
      ]
    },
    {
      "cell_type": "code",
      "metadata": {
        "id": "xqj-1Z14AuDm"
      },
      "source": [
        "def grid_search_with_stratifiedKFold(model, grid, skf, dataset, confidence):\n",
        "    grid_search = GridSearchCV(model, grid, cv=skf, n_jobs=-1)\n",
        "\n",
        "    X_train, X_val, y_train, y_val = train_test_split(\n",
        "        dataset.drop([\"Outcome\"], axis=1),\n",
        "        dataset[\"Outcome\"],\n",
        "        test_size=1/3, random_state=42\n",
        "    )\n",
        "\n",
        "    grid_search.fit(X_train, y_train)\n",
        "    \n",
        "    score = grid_search.score(X_val, y_val)\n",
        "\n",
        "    lower, upper = proportion_confint(len(X_train) * score, len(X_train), 1-confidence/100, method='wilson')\n",
        "\n",
        "    print(\"Accuracy on validation set: {}\\n\".format(score))\n",
        "    print(\"Best cross validation score: {}\\n\".format(grid_search.best_score_))\n",
        "    print(\"Best params: {}\\n\".format(grid_search.best_params_))\n",
        "    print(\"Best estimator: {}\\n\".format(grid_search.best_estimator_))\n",
        "    print('Interval with confidence {}%: \\nPmin = {:.4f}%\\nPmax = {:.4f}%'.format(confidence, lower*100, upper*100))\n",
        "\n",
        "    return grid_search, score"
      ],
      "execution_count": 631,
      "outputs": []
    },
    {
      "cell_type": "code",
      "metadata": {
        "id": "lyW_fVjHM6hX"
      },
      "source": [
        "confidence = 95"
      ],
      "execution_count": 632,
      "outputs": []
    },
    {
      "cell_type": "code",
      "metadata": {
        "id": "2acGYIfodUmN"
      },
      "source": [
        "models = {}"
      ],
      "execution_count": 633,
      "outputs": []
    },
    {
      "cell_type": "markdown",
      "metadata": {
        "id": "T0pcOAVwKHnU"
      },
      "source": [
        "###**Perceptron**\n",
        "\n",
        "Viene implementato nuovamente un modello *Perceptron* per valutare il punteggio che otterrebbe ottimizzando gli iperparametri e con una cross-fold validation."
      ]
    },
    {
      "cell_type": "code",
      "metadata": {
        "colab": {
          "base_uri": "https://localhost:8080/",
          "height": 0
        },
        "id": "sZRXhFMdHIhk",
        "outputId": "3f38f485-8f28-4f22-9247-b1a78953ad30"
      },
      "source": [
        "perceptron_model = Pipeline([\n",
        "    (\"scaler\", StandardScaler()),\n",
        "    (\"perceptron\", Perceptron(n_jobs=-1, random_state=42))\n",
        "])\n",
        "\n",
        "perceptron_grid = {\n",
        "    \"scaler\": [None, StandardScaler()],\n",
        "    \"perceptron__penalty\": [\"l2\", \"l1\", \"elasticnet\"],\n",
        "    'perceptron__alpha': [0.0001, 0.001, 0.01, 1]\n",
        "}\n",
        "\n",
        "perceptron_gs, perceptron_score = grid_search_with_stratifiedKFold(perceptron_model, perceptron_grid, skf, data, confidence)"
      ],
      "execution_count": 634,
      "outputs": [
        {
          "output_type": "stream",
          "name": "stdout",
          "text": [
            "Accuracy on validation set: 0.7421289355322339\n",
            "\n",
            "Best cross validation score: 0.7171491716435536\n",
            "\n",
            "Best params: {'perceptron__alpha': 0.0001, 'perceptron__penalty': 'l1', 'scaler': StandardScaler(copy=True, with_mean=True, with_std=True)}\n",
            "\n",
            "Best estimator: Pipeline(memory=None,\n",
            "         steps=[('scaler',\n",
            "                 StandardScaler(copy=True, with_mean=True, with_std=True)),\n",
            "                ('perceptron',\n",
            "                 Perceptron(alpha=0.0001, class_weight=None,\n",
            "                            early_stopping=False, eta0=1.0, fit_intercept=True,\n",
            "                            max_iter=1000, n_iter_no_change=5, n_jobs=-1,\n",
            "                            penalty='l1', random_state=42, shuffle=True,\n",
            "                            tol=0.001, validation_fraction=0.1, verbose=0,\n",
            "                            warm_start=False))],\n",
            "         verbose=False)\n",
            "\n",
            "Interval with confidence 95%: \n",
            "Pmin = 71.7973%\n",
            "Pmax = 76.4894%\n"
          ]
        }
      ]
    },
    {
      "cell_type": "code",
      "metadata": {
        "colab": {
          "base_uri": "https://localhost:8080/",
          "height": 0
        },
        "id": "sW01sQmfPv8F",
        "outputId": "f1627ef0-dcfb-4058-ba32-2b2e3c40be74"
      },
      "source": [
        "perceptron_pred = perceptron_gs.predict(X_val)\n",
        "print(classification_report(y_val, perceptron_pred))"
      ],
      "execution_count": 635,
      "outputs": [
        {
          "output_type": "stream",
          "name": "stdout",
          "text": [
            "              precision    recall  f1-score   support\n",
            "\n",
            "           0       0.84      0.75      0.79       435\n",
            "           1       0.61      0.73      0.66       232\n",
            "\n",
            "    accuracy                           0.74       667\n",
            "   macro avg       0.72      0.74      0.73       667\n",
            "weighted avg       0.76      0.74      0.75       667\n",
            "\n"
          ]
        }
      ]
    },
    {
      "cell_type": "code",
      "metadata": {
        "colab": {
          "base_uri": "https://localhost:8080/",
          "height": 111
        },
        "id": "z_7ZJgmLRKMj",
        "outputId": "11f1c654-0b61-489d-a941-1d48e101ecd5"
      },
      "source": [
        "cm = confusion_matrix(y_val, perceptron_pred)\n",
        "pd.DataFrame(cm, index=model.named_steps[\"model\"].classes_, columns=model.named_steps[\"model\"].classes_)"
      ],
      "execution_count": 636,
      "outputs": [
        {
          "output_type": "execute_result",
          "data": {
            "text/html": [
              "<div>\n",
              "<style scoped>\n",
              "    .dataframe tbody tr th:only-of-type {\n",
              "        vertical-align: middle;\n",
              "    }\n",
              "\n",
              "    .dataframe tbody tr th {\n",
              "        vertical-align: top;\n",
              "    }\n",
              "\n",
              "    .dataframe thead th {\n",
              "        text-align: right;\n",
              "    }\n",
              "</style>\n",
              "<table border=\"1\" class=\"dataframe\">\n",
              "  <thead>\n",
              "    <tr style=\"text-align: right;\">\n",
              "      <th></th>\n",
              "      <th>0</th>\n",
              "      <th>1</th>\n",
              "    </tr>\n",
              "  </thead>\n",
              "  <tbody>\n",
              "    <tr>\n",
              "      <th>0</th>\n",
              "      <td>326</td>\n",
              "      <td>109</td>\n",
              "    </tr>\n",
              "    <tr>\n",
              "      <th>1</th>\n",
              "      <td>63</td>\n",
              "      <td>169</td>\n",
              "    </tr>\n",
              "  </tbody>\n",
              "</table>\n",
              "</div>"
            ],
            "text/plain": [
              "     0    1\n",
              "0  326  109\n",
              "1   63  169"
            ]
          },
          "metadata": {},
          "execution_count": 636
        }
      ]
    },
    {
      "cell_type": "code",
      "metadata": {
        "colab": {
          "base_uri": "https://localhost:8080/",
          "height": 0
        },
        "id": "90CxOr0HXZWh",
        "outputId": "3d3ea515-8335-4faa-b26e-c82c81a179dd"
      },
      "source": [
        "perceptron_mse = mean_squared_error(y_val, perceptron_pred)\n",
        "print('MSE: {}'.format(perceptron_mse))"
      ],
      "execution_count": 637,
      "outputs": [
        {
          "output_type": "stream",
          "name": "stdout",
          "text": [
            "MSE: 0.25787106446776614\n"
          ]
        }
      ]
    },
    {
      "cell_type": "code",
      "metadata": {
        "id": "qvqF1D3adcn2"
      },
      "source": [
        "models[\"Perceptron\"] = {\"F1_Measure\" : f1_score(y_val, perceptron_pred, average=\"macro\"), \"Score\" : perceptron_score}"
      ],
      "execution_count": 638,
      "outputs": []
    },
    {
      "cell_type": "markdown",
      "metadata": {
        "id": "7hRit3_KEMyf"
      },
      "source": [
        "### **Perceptron with Polynomial features**\n",
        "\n",
        "Si implementa un modello *Perceptron* introducendo features polinomiali"
      ]
    },
    {
      "cell_type": "code",
      "metadata": {
        "colab": {
          "base_uri": "https://localhost:8080/",
          "height": 0
        },
        "id": "BSOjzeg4QO4p",
        "outputId": "5d36c0d7-7328-4cc1-a837-33d1b9da8f41"
      },
      "source": [
        "from sklearn.preprocessing import PolynomialFeatures\n",
        "\n",
        "poly_perceptron_model = Pipeline([\n",
        "    ('std', StandardScaler()),\n",
        "    ('poly', PolynomialFeatures(degree=2)),\n",
        "    ('perceptron', Perceptron(n_jobs=-1, random_state=42))\n",
        "])\n",
        "\n",
        "poly_perceptron_grid = {\n",
        "    'std': [None, StandardScaler()],\n",
        "    'perceptron__penalty': ['l1', 'l2', \"elasticnet\"],\n",
        "    'perceptron__alpha': [0.0001, 0.001, 0.01, 0.1],\n",
        "}\n",
        "\n",
        "poly_perceptron_gs, poly_perceptron_score= grid_search_with_stratifiedKFold(poly_perceptron_model, poly_perceptron_grid, skf, data, confidence)"
      ],
      "execution_count": 639,
      "outputs": [
        {
          "output_type": "stream",
          "name": "stdout",
          "text": [
            "Accuracy on validation set: 0.760119940029985\n",
            "\n",
            "Best cross validation score: 0.7291696190572595\n",
            "\n",
            "Best params: {'perceptron__alpha': 0.0001, 'perceptron__penalty': 'l1', 'std': StandardScaler(copy=True, with_mean=True, with_std=True)}\n",
            "\n",
            "Best estimator: Pipeline(memory=None,\n",
            "         steps=[('std',\n",
            "                 StandardScaler(copy=True, with_mean=True, with_std=True)),\n",
            "                ('poly',\n",
            "                 PolynomialFeatures(degree=2, include_bias=True,\n",
            "                                    interaction_only=False, order='C')),\n",
            "                ('perceptron',\n",
            "                 Perceptron(alpha=0.0001, class_weight=None,\n",
            "                            early_stopping=False, eta0=1.0, fit_intercept=True,\n",
            "                            max_iter=1000, n_iter_no_change=5, n_jobs=-1,\n",
            "                            penalty='l1', random_state=42, shuffle=True,\n",
            "                            tol=0.001, validation_fraction=0.1, verbose=0,\n",
            "                            warm_start=False))],\n",
            "         verbose=False)\n",
            "\n",
            "Interval with confidence 95%: \n",
            "Pmin = 73.6470%\n",
            "Pmax = 78.2275%\n"
          ]
        }
      ]
    },
    {
      "cell_type": "code",
      "metadata": {
        "colab": {
          "base_uri": "https://localhost:8080/",
          "height": 0
        },
        "id": "rx93Dbo2S2d2",
        "outputId": "c83c46ab-0a48-467a-d8cf-0e270df6f8d7"
      },
      "source": [
        "poly_perceptron_pred = poly_perceptron_gs.predict(X_val)\n",
        "print(classification_report(y_val, poly_perceptron_pred))"
      ],
      "execution_count": 640,
      "outputs": [
        {
          "output_type": "stream",
          "name": "stdout",
          "text": [
            "              precision    recall  f1-score   support\n",
            "\n",
            "           0       0.82      0.82      0.82       435\n",
            "           1       0.66      0.66      0.66       232\n",
            "\n",
            "    accuracy                           0.76       667\n",
            "   macro avg       0.74      0.74      0.74       667\n",
            "weighted avg       0.76      0.76      0.76       667\n",
            "\n"
          ]
        }
      ]
    },
    {
      "cell_type": "code",
      "metadata": {
        "colab": {
          "base_uri": "https://localhost:8080/",
          "height": 111
        },
        "id": "Buu608jiS9kr",
        "outputId": "3775d7f2-167b-4257-d3c5-4cac2de221c4"
      },
      "source": [
        "cm = confusion_matrix(y_val, poly_perceptron_pred)\n",
        "pd.DataFrame(cm, index=model.named_steps[\"model\"].classes_, columns=model.named_steps[\"model\"].classes_)"
      ],
      "execution_count": 641,
      "outputs": [
        {
          "output_type": "execute_result",
          "data": {
            "text/html": [
              "<div>\n",
              "<style scoped>\n",
              "    .dataframe tbody tr th:only-of-type {\n",
              "        vertical-align: middle;\n",
              "    }\n",
              "\n",
              "    .dataframe tbody tr th {\n",
              "        vertical-align: top;\n",
              "    }\n",
              "\n",
              "    .dataframe thead th {\n",
              "        text-align: right;\n",
              "    }\n",
              "</style>\n",
              "<table border=\"1\" class=\"dataframe\">\n",
              "  <thead>\n",
              "    <tr style=\"text-align: right;\">\n",
              "      <th></th>\n",
              "      <th>0</th>\n",
              "      <th>1</th>\n",
              "    </tr>\n",
              "  </thead>\n",
              "  <tbody>\n",
              "    <tr>\n",
              "      <th>0</th>\n",
              "      <td>355</td>\n",
              "      <td>80</td>\n",
              "    </tr>\n",
              "    <tr>\n",
              "      <th>1</th>\n",
              "      <td>80</td>\n",
              "      <td>152</td>\n",
              "    </tr>\n",
              "  </tbody>\n",
              "</table>\n",
              "</div>"
            ],
            "text/plain": [
              "     0    1\n",
              "0  355   80\n",
              "1   80  152"
            ]
          },
          "metadata": {},
          "execution_count": 641
        }
      ]
    },
    {
      "cell_type": "code",
      "metadata": {
        "colab": {
          "base_uri": "https://localhost:8080/",
          "height": 0
        },
        "id": "DGW8pvW5XUdG",
        "outputId": "62646623-f14b-4f38-eb2b-a7dd98509954"
      },
      "source": [
        "poly_perceptron_mse = mean_squared_error(y_val, poly_perceptron_pred)\n",
        "print('MSE: {}'.format(poly_perceptron_mse))"
      ],
      "execution_count": 642,
      "outputs": [
        {
          "output_type": "stream",
          "name": "stdout",
          "text": [
            "MSE: 0.239880059970015\n"
          ]
        }
      ]
    },
    {
      "cell_type": "code",
      "metadata": {
        "id": "nFQgui3ygftJ"
      },
      "source": [
        "models[\"Poly_Perceptron\"] = {\"F1_Measure\" : f1_score(y_val, poly_perceptron_pred, average=\"macro\"), \"Score\" : poly_perceptron_score}"
      ],
      "execution_count": 643,
      "outputs": []
    },
    {
      "cell_type": "markdown",
      "metadata": {
        "id": "jbcmemZ8KW4-"
      },
      "source": [
        "###**Logistic Regression**\n",
        "\n",
        "La regressione _logistica_ è un modello di classificazione binaria basato sulla regressione lineare.\n",
        "Si può decidere:\n",
        "  - standardizzazione dei dati\n",
        "  - regolarizzazione di tipo \"l2\", \"l1\" o \"elasticnet\"\n",
        "  - parametro C pari a 0.001, 0.01, 0.1, 1\n",
        "  - nel caso di \"elasticnet\", `l1_ratio` pari a 0.2 o 0.5"
      ]
    },
    {
      "cell_type": "code",
      "metadata": {
        "colab": {
          "base_uri": "https://localhost:8080/",
          "height": 0
        },
        "id": "GYgnPIkrInTe",
        "outputId": "7e2cfdac-fa04-4d92-fdf5-1a88c0ea2c74"
      },
      "source": [
        "log_model = Pipeline([\n",
        "    (\"scaler\", StandardScaler()),\n",
        "    (\"lr\", LogisticRegression(solver='saga', random_state=42))\n",
        "])\n",
        "\n",
        "#print(log_model.get_params())\n",
        "\n",
        "log_grid = {\n",
        "    \"scaler\": [None, StandardScaler()],\n",
        "    \"lr__penalty\": [\"l2\", \"l1\"],\n",
        "    \"lr__C\": [0.001, 0.01, 0.1, 1],\n",
        "    \"lr__fit_intercept\": [False, True]\n",
        "}\n",
        "\n",
        "log_grid = [\n",
        "    {\n",
        "        \"scaler\": [None, StandardScaler()],\n",
        "        \"lr__penalty\": [\"l2\", \"l1\"],\n",
        "        \"lr__C\": [0.001, 0.01, 0.1, 1],\n",
        "    },\n",
        "    {\n",
        "        \"scaler\": [None, StandardScaler()],\n",
        "        \"lr__penalty\": [\"elasticnet\"],\n",
        "        \"lr__C\": [0.001, 0.01, 0.1, 1],\n",
        "        \"lr__l1_ratio\": [0.2, 0.5],\n",
        "    }\n",
        "]\n",
        "\n",
        "log_gs, log_score= grid_search_with_stratifiedKFold(log_model, log_grid, skf, data, confidence)"
      ],
      "execution_count": 644,
      "outputs": [
        {
          "output_type": "stream",
          "name": "stdout",
          "text": [
            "Accuracy on validation set: 0.7976011994002998\n",
            "\n",
            "Best cross validation score: 0.7621621621621623\n",
            "\n",
            "Best params: {'lr__C': 1, 'lr__penalty': 'l2', 'scaler': StandardScaler(copy=True, with_mean=True, with_std=True)}\n",
            "\n",
            "Best estimator: Pipeline(memory=None,\n",
            "         steps=[('scaler',\n",
            "                 StandardScaler(copy=True, with_mean=True, with_std=True)),\n",
            "                ('lr',\n",
            "                 LogisticRegression(C=1, class_weight=None, dual=False,\n",
            "                                    fit_intercept=True, intercept_scaling=1,\n",
            "                                    l1_ratio=None, max_iter=100,\n",
            "                                    multi_class='auto', n_jobs=None,\n",
            "                                    penalty='l2', random_state=42,\n",
            "                                    solver='saga', tol=0.0001, verbose=0,\n",
            "                                    warm_start=False))],\n",
            "         verbose=False)\n",
            "\n",
            "Interval with confidence 95%: \n",
            "Pmin = 77.5191%\n",
            "Pmax = 81.8301%\n"
          ]
        }
      ]
    },
    {
      "cell_type": "code",
      "metadata": {
        "colab": {
          "base_uri": "https://localhost:8080/",
          "height": 0
        },
        "id": "lSCubXS9TpOp",
        "outputId": "122faf46-8f1f-4cf0-8a49-7fcef54ea64a"
      },
      "source": [
        "log_pred = log_gs.predict(X_val)\n",
        "print(classification_report(y_val, log_pred))"
      ],
      "execution_count": 645,
      "outputs": [
        {
          "output_type": "stream",
          "name": "stdout",
          "text": [
            "              precision    recall  f1-score   support\n",
            "\n",
            "           0       0.81      0.90      0.85       435\n",
            "           1       0.76      0.61      0.68       232\n",
            "\n",
            "    accuracy                           0.80       667\n",
            "   macro avg       0.79      0.75      0.77       667\n",
            "weighted avg       0.79      0.80      0.79       667\n",
            "\n"
          ]
        }
      ]
    },
    {
      "cell_type": "code",
      "metadata": {
        "colab": {
          "base_uri": "https://localhost:8080/",
          "height": 111
        },
        "id": "G5D7LtG0Twlf",
        "outputId": "4d888917-193a-4c3b-dda6-4d9d98d8b4ba"
      },
      "source": [
        "cm = confusion_matrix(y_val, log_pred)\n",
        "pd.DataFrame(cm, index=model.named_steps[\"model\"].classes_, columns=model.named_steps[\"model\"].classes_)"
      ],
      "execution_count": 646,
      "outputs": [
        {
          "output_type": "execute_result",
          "data": {
            "text/html": [
              "<div>\n",
              "<style scoped>\n",
              "    .dataframe tbody tr th:only-of-type {\n",
              "        vertical-align: middle;\n",
              "    }\n",
              "\n",
              "    .dataframe tbody tr th {\n",
              "        vertical-align: top;\n",
              "    }\n",
              "\n",
              "    .dataframe thead th {\n",
              "        text-align: right;\n",
              "    }\n",
              "</style>\n",
              "<table border=\"1\" class=\"dataframe\">\n",
              "  <thead>\n",
              "    <tr style=\"text-align: right;\">\n",
              "      <th></th>\n",
              "      <th>0</th>\n",
              "      <th>1</th>\n",
              "    </tr>\n",
              "  </thead>\n",
              "  <tbody>\n",
              "    <tr>\n",
              "      <th>0</th>\n",
              "      <td>390</td>\n",
              "      <td>45</td>\n",
              "    </tr>\n",
              "    <tr>\n",
              "      <th>1</th>\n",
              "      <td>90</td>\n",
              "      <td>142</td>\n",
              "    </tr>\n",
              "  </tbody>\n",
              "</table>\n",
              "</div>"
            ],
            "text/plain": [
              "     0    1\n",
              "0  390   45\n",
              "1   90  142"
            ]
          },
          "metadata": {},
          "execution_count": 646
        }
      ]
    },
    {
      "cell_type": "code",
      "metadata": {
        "colab": {
          "base_uri": "https://localhost:8080/",
          "height": 0
        },
        "id": "Y072TNyIXNpi",
        "outputId": "481f5eda-b0d4-4730-8010-16f53b815fc8"
      },
      "source": [
        "log_mse = mean_squared_error(y_val, log_pred)\n",
        "print('MSE: {}'.format(log_mse))"
      ],
      "execution_count": 647,
      "outputs": [
        {
          "output_type": "stream",
          "name": "stdout",
          "text": [
            "MSE: 0.20239880059970014\n"
          ]
        }
      ]
    },
    {
      "cell_type": "code",
      "metadata": {
        "id": "D5VAOW6egszA"
      },
      "source": [
        "models[\"Logistic_Regression\"] = {\"F1_Measure\" : f1_score(y_val, log_pred, average=\"macro\"), \"Score\" : log_score}"
      ],
      "execution_count": 648,
      "outputs": []
    },
    {
      "cell_type": "markdown",
      "metadata": {
        "id": "FbOOfPiXTeQL"
      },
      "source": [
        "###**SVM**\n",
        "\n",
        "Il metodo delle Support Vector Machines (SVM) è stato formulato proprio per la classificazione binaria in quanto consiste nell'individuare un iperpiano di separazione ottimale tra le due classi basandosi sulle istanze più vicine ad esso, i cosiddetti _support vector_."
      ]
    },
    {
      "cell_type": "code",
      "metadata": {
        "colab": {
          "base_uri": "https://localhost:8080/",
          "height": 0
        },
        "id": "cK7wdMizPK15",
        "outputId": "92883095-bfd8-4eb8-b6cc-82f7299b72f1"
      },
      "source": [
        "%%time\n",
        "svm_model = Pipeline([\n",
        "    (\"scaler\", StandardScaler()),\n",
        "    (\"svc\", SVC(random_state=42))\n",
        "])\n",
        "\n",
        "#print(svm_model.get_params())\n",
        "\n",
        "svm_grid = [\n",
        "  {'svc__C': [0.01, 0.1, 1, 10], 'svc__kernel': ['linear']},\n",
        "  {'svc__C': [0.01, 0.1, 1, 10], 'svc__kernel': ['poly']},\n",
        "  {'svc__C': [0.01, 0.1, 1, 10], 'svc__kernel': ['rbf']}\n",
        "]\n",
        "\n",
        "svm_gs, svm_score = grid_search_with_stratifiedKFold(svm_model, svm_grid, skf, data, confidence)"
      ],
      "execution_count": 649,
      "outputs": [
        {
          "output_type": "stream",
          "name": "stdout",
          "text": [
            "Accuracy on validation set: 0.8830584707646177\n",
            "\n",
            "Best cross validation score: 0.8416911293315787\n",
            "\n",
            "Best params: {'svc__C': 10, 'svc__kernel': 'rbf'}\n",
            "\n",
            "Best estimator: Pipeline(memory=None,\n",
            "         steps=[('scaler',\n",
            "                 StandardScaler(copy=True, with_mean=True, with_std=True)),\n",
            "                ('svc',\n",
            "                 SVC(C=10, break_ties=False, cache_size=200, class_weight=None,\n",
            "                     coef0=0.0, decision_function_shape='ovr', degree=3,\n",
            "                     gamma='scale', kernel='rbf', max_iter=-1,\n",
            "                     probability=False, random_state=42, shrinking=True,\n",
            "                     tol=0.001, verbose=False))],\n",
            "         verbose=False)\n",
            "\n",
            "Interval with confidence 95%: \n",
            "Pmin = 86.4696%\n",
            "Pmax = 89.9219%\n",
            "CPU times: user 204 ms, sys: 6.56 ms, total: 210 ms\n",
            "Wall time: 1.35 s\n"
          ]
        }
      ]
    },
    {
      "cell_type": "code",
      "metadata": {
        "colab": {
          "base_uri": "https://localhost:8080/",
          "height": 0
        },
        "id": "OGMFE7suT18v",
        "outputId": "41915f5d-d697-4b17-da55-f1dd598b1b3e"
      },
      "source": [
        "svm_pred = svm_gs.predict(X_val)\n",
        "print(classification_report(y_val, svm_pred))"
      ],
      "execution_count": 650,
      "outputs": [
        {
          "output_type": "stream",
          "name": "stdout",
          "text": [
            "              precision    recall  f1-score   support\n",
            "\n",
            "           0       0.89      0.93      0.91       435\n",
            "           1       0.86      0.79      0.82       232\n",
            "\n",
            "    accuracy                           0.88       667\n",
            "   macro avg       0.88      0.86      0.87       667\n",
            "weighted avg       0.88      0.88      0.88       667\n",
            "\n"
          ]
        }
      ]
    },
    {
      "cell_type": "code",
      "metadata": {
        "colab": {
          "base_uri": "https://localhost:8080/",
          "height": 111
        },
        "id": "eF6TvlRXT18w",
        "outputId": "94bd8db4-d7b2-41af-eff1-8bd7dd26b669"
      },
      "source": [
        "cm = confusion_matrix(y_val, svm_pred)\n",
        "pd.DataFrame(cm, index=model.named_steps[\"model\"].classes_, columns=model.named_steps[\"model\"].classes_)"
      ],
      "execution_count": 651,
      "outputs": [
        {
          "output_type": "execute_result",
          "data": {
            "text/html": [
              "<div>\n",
              "<style scoped>\n",
              "    .dataframe tbody tr th:only-of-type {\n",
              "        vertical-align: middle;\n",
              "    }\n",
              "\n",
              "    .dataframe tbody tr th {\n",
              "        vertical-align: top;\n",
              "    }\n",
              "\n",
              "    .dataframe thead th {\n",
              "        text-align: right;\n",
              "    }\n",
              "</style>\n",
              "<table border=\"1\" class=\"dataframe\">\n",
              "  <thead>\n",
              "    <tr style=\"text-align: right;\">\n",
              "      <th></th>\n",
              "      <th>0</th>\n",
              "      <th>1</th>\n",
              "    </tr>\n",
              "  </thead>\n",
              "  <tbody>\n",
              "    <tr>\n",
              "      <th>0</th>\n",
              "      <td>406</td>\n",
              "      <td>29</td>\n",
              "    </tr>\n",
              "    <tr>\n",
              "      <th>1</th>\n",
              "      <td>49</td>\n",
              "      <td>183</td>\n",
              "    </tr>\n",
              "  </tbody>\n",
              "</table>\n",
              "</div>"
            ],
            "text/plain": [
              "     0    1\n",
              "0  406   29\n",
              "1   49  183"
            ]
          },
          "metadata": {},
          "execution_count": 651
        }
      ]
    },
    {
      "cell_type": "code",
      "metadata": {
        "colab": {
          "base_uri": "https://localhost:8080/",
          "height": 0
        },
        "id": "_1CgEoxUXHBi",
        "outputId": "2113d1b1-5d0a-43cf-9426-7f1c3d058bc5"
      },
      "source": [
        "svm_mse = mean_squared_error(y_val, svm_pred)\n",
        "print('MSE: {}'.format(svm_mse))"
      ],
      "execution_count": 652,
      "outputs": [
        {
          "output_type": "stream",
          "name": "stdout",
          "text": [
            "MSE: 0.11694152923538231\n"
          ]
        }
      ]
    },
    {
      "cell_type": "code",
      "metadata": {
        "id": "oeS9yp69hMNj"
      },
      "source": [
        "models[\"SVM\"] = {\"F1_Measure\" : f1_score(y_val, svm_pred, average=\"macro\"), \"Score\" : svm_score}"
      ],
      "execution_count": 653,
      "outputs": []
    },
    {
      "cell_type": "markdown",
      "metadata": {
        "id": "aPnJJdVhapH-"
      },
      "source": [
        "### **Decision Tree**\n",
        "\n",
        "\n",
        "Gli alberi decisionali, a differenza dei modelli precedentemente implementati che si basano su iperpiani descritti da equazioni su tutte le variabili, costituiscono un approccio differente: la classificazione avviene in base ad una serie di decisioni \"semplici\", basate ciascuna su una sola variabile, ciascuna delle quali porta ad un ramo diverso dell'albero."
      ]
    },
    {
      "cell_type": "code",
      "metadata": {
        "colab": {
          "base_uri": "https://localhost:8080/",
          "height": 0
        },
        "id": "8NKVYxqccdrb",
        "outputId": "06a7c2dd-d4ba-4ad9-ac85-6733cdb9c46c"
      },
      "source": [
        "%%time\n",
        "decision_tree_model = Pipeline([\n",
        "    (\"scaler\", StandardScaler()),\n",
        "    (\"tree\", DecisionTreeClassifier(random_state=42))\n",
        "])\n",
        "\n",
        "decision_tree_grid = {\"scaler\": [None, StandardScaler()],\n",
        "             'tree__min_samples_split': [2, 5, 10],\n",
        "             'tree__min_samples_leaf': [None, 1, 2], \n",
        "             'tree__max_depth': [6, 8, 10]}\n",
        "\n",
        "decision_tree_model_gs, decision_tree_score = grid_search_with_stratifiedKFold(decision_tree_model, decision_tree_grid, skf, data, confidence)"
      ],
      "execution_count": 654,
      "outputs": [
        {
          "output_type": "stream",
          "name": "stdout",
          "text": [
            "Accuracy on validation set: 0.9250374812593704\n",
            "\n",
            "Best cross validation score: 0.8784509228329452\n",
            "\n",
            "Best params: {'scaler': None, 'tree__max_depth': 10, 'tree__min_samples_leaf': 1, 'tree__min_samples_split': 2}\n",
            "\n",
            "Best estimator: Pipeline(memory=None,\n",
            "         steps=[('scaler', None),\n",
            "                ('tree',\n",
            "                 DecisionTreeClassifier(ccp_alpha=0.0, class_weight=None,\n",
            "                                        criterion='gini', max_depth=10,\n",
            "                                        max_features=None, max_leaf_nodes=None,\n",
            "                                        min_impurity_decrease=0.0,\n",
            "                                        min_impurity_split=None,\n",
            "                                        min_samples_leaf=1, min_samples_split=2,\n",
            "                                        min_weight_fraction_leaf=0.0,\n",
            "                                        presort='deprecated', random_state=42,\n",
            "                                        splitter='best'))],\n",
            "         verbose=False)\n",
            "\n",
            "Interval with confidence 95%: \n",
            "Pmin = 90.9647%\n",
            "Pmax = 93.7985%\n",
            "CPU times: user 342 ms, sys: 10.8 ms, total: 353 ms\n",
            "Wall time: 1.03 s\n"
          ]
        }
      ]
    },
    {
      "cell_type": "code",
      "metadata": {
        "colab": {
          "base_uri": "https://localhost:8080/",
          "height": 0
        },
        "id": "VdTok0lJc_fx",
        "outputId": "bf8f32ae-b937-415f-c0a0-5debbd8dc33a"
      },
      "source": [
        "dt_pred = decision_tree_model_gs.predict(X_val)\n",
        "print(classification_report(y_val, dt_pred))"
      ],
      "execution_count": 655,
      "outputs": [
        {
          "output_type": "stream",
          "name": "stdout",
          "text": [
            "              precision    recall  f1-score   support\n",
            "\n",
            "           0       0.94      0.95      0.94       435\n",
            "           1       0.90      0.88      0.89       232\n",
            "\n",
            "    accuracy                           0.93       667\n",
            "   macro avg       0.92      0.92      0.92       667\n",
            "weighted avg       0.92      0.93      0.92       667\n",
            "\n"
          ]
        }
      ]
    },
    {
      "cell_type": "code",
      "metadata": {
        "colab": {
          "base_uri": "https://localhost:8080/",
          "height": 111
        },
        "id": "L1O7_tOJc_fy",
        "outputId": "0bebb5b9-ba3a-440a-a2a0-118a86e7f8f3"
      },
      "source": [
        "cm = confusion_matrix(y_val, dt_pred)\n",
        "pd.DataFrame(cm, index=model.named_steps[\"model\"].classes_, columns=model.named_steps[\"model\"].classes_)"
      ],
      "execution_count": 656,
      "outputs": [
        {
          "output_type": "execute_result",
          "data": {
            "text/html": [
              "<div>\n",
              "<style scoped>\n",
              "    .dataframe tbody tr th:only-of-type {\n",
              "        vertical-align: middle;\n",
              "    }\n",
              "\n",
              "    .dataframe tbody tr th {\n",
              "        vertical-align: top;\n",
              "    }\n",
              "\n",
              "    .dataframe thead th {\n",
              "        text-align: right;\n",
              "    }\n",
              "</style>\n",
              "<table border=\"1\" class=\"dataframe\">\n",
              "  <thead>\n",
              "    <tr style=\"text-align: right;\">\n",
              "      <th></th>\n",
              "      <th>0</th>\n",
              "      <th>1</th>\n",
              "    </tr>\n",
              "  </thead>\n",
              "  <tbody>\n",
              "    <tr>\n",
              "      <th>0</th>\n",
              "      <td>412</td>\n",
              "      <td>23</td>\n",
              "    </tr>\n",
              "    <tr>\n",
              "      <th>1</th>\n",
              "      <td>27</td>\n",
              "      <td>205</td>\n",
              "    </tr>\n",
              "  </tbody>\n",
              "</table>\n",
              "</div>"
            ],
            "text/plain": [
              "     0    1\n",
              "0  412   23\n",
              "1   27  205"
            ]
          },
          "metadata": {},
          "execution_count": 656
        }
      ]
    },
    {
      "cell_type": "code",
      "metadata": {
        "colab": {
          "base_uri": "https://localhost:8080/",
          "height": 0
        },
        "id": "3qDrkGQPW5Sk",
        "outputId": "2a2a08c4-2047-47e2-840a-a645b869b3be"
      },
      "source": [
        "dt_mse = mean_squared_error(y_val, dt_pred)\n",
        "print('MSE: {}'.format(dt_mse))"
      ],
      "execution_count": 657,
      "outputs": [
        {
          "output_type": "stream",
          "name": "stdout",
          "text": [
            "MSE: 0.07496251874062969\n"
          ]
        }
      ]
    },
    {
      "cell_type": "code",
      "metadata": {
        "id": "3VsmJqTZhcFq"
      },
      "source": [
        "models[\"Decision_Tree\"] = {\"F1_Measure\" : f1_score(y_val, dt_pred, average=\"macro\"), \"Score\" : decision_tree_score}"
      ],
      "execution_count": 658,
      "outputs": []
    },
    {
      "cell_type": "markdown",
      "metadata": {
        "id": "CkL_t_20U7zx"
      },
      "source": [
        "###**Random Forest**\n",
        "\n",
        "Random Forest è un classificatore che fa uso di un insieme di alberi decisionali su sottoinsiemi di variabili di input. Questa tecnica generalmente tende a diminuire il tipico overfitting dei singoli alberi decisionali."
      ]
    },
    {
      "cell_type": "code",
      "metadata": {
        "colab": {
          "base_uri": "https://localhost:8080/",
          "height": 0
        },
        "id": "KJa6Pdz_U9vN",
        "outputId": "f933f61f-3b3e-4047-8e14-29214ba65838"
      },
      "source": [
        "%%time\n",
        "forest_model = Pipeline([\n",
        "    (\"scaler\", StandardScaler()),\n",
        "    (\"forest\", RandomForestClassifier(n_jobs=-1, random_state=42))\n",
        "])\n",
        "\n",
        "forest_grid = {\"scaler\": [None, StandardScaler()],\n",
        "            'forest__n_estimators': [10, 50, 100],\n",
        "            'forest__max_depth': [6, 8, 10],\n",
        "            'forest__min_samples_leaf': [None, 1, 2],\n",
        "            'forest__min_samples_split': [2, 5, 10]}\n",
        "\n",
        "forest_model_gs, forest_score = grid_search_with_stratifiedKFold(forest_model, forest_grid, skf, data, confidence)"
      ],
      "execution_count": 659,
      "outputs": [
        {
          "output_type": "stream",
          "name": "stdout",
          "text": [
            "Accuracy on validation set: 0.9505247376311844\n",
            "\n",
            "Best cross validation score: 0.9032088268043325\n",
            "\n",
            "Best params: {'forest__max_depth': 10, 'forest__min_samples_leaf': 1, 'forest__min_samples_split': 2, 'forest__n_estimators': 100, 'scaler': None}\n",
            "\n",
            "Best estimator: Pipeline(memory=None,\n",
            "         steps=[('scaler', None),\n",
            "                ('forest',\n",
            "                 RandomForestClassifier(bootstrap=True, ccp_alpha=0.0,\n",
            "                                        class_weight=None, criterion='gini',\n",
            "                                        max_depth=10, max_features='auto',\n",
            "                                        max_leaf_nodes=None, max_samples=None,\n",
            "                                        min_impurity_decrease=0.0,\n",
            "                                        min_impurity_split=None,\n",
            "                                        min_samples_leaf=1, min_samples_split=2,\n",
            "                                        min_weight_fraction_leaf=0.0,\n",
            "                                        n_estimators=100, n_jobs=-1,\n",
            "                                        oob_score=False, random_state=42,\n",
            "                                        verbose=0, warm_start=False))],\n",
            "         verbose=False)\n",
            "\n",
            "Interval with confidence 95%: \n",
            "Pmin = 93.7534%\n",
            "Pmax = 96.0927%\n",
            "CPU times: user 2.54 s, sys: 114 ms, total: 2.65 s\n",
            "Wall time: 1min 4s\n"
          ]
        }
      ]
    },
    {
      "cell_type": "code",
      "metadata": {
        "colab": {
          "base_uri": "https://localhost:8080/",
          "height": 0
        },
        "id": "Q-dzWmRTYbjD",
        "outputId": "1a5b2365-b565-4738-bb7c-f2508627d27e"
      },
      "source": [
        "forest_pred = forest_model_gs.predict(X_val)\n",
        "print(classification_report(y_val, forest_pred))"
      ],
      "execution_count": 660,
      "outputs": [
        {
          "output_type": "stream",
          "name": "stdout",
          "text": [
            "              precision    recall  f1-score   support\n",
            "\n",
            "           0       0.96      0.97      0.96       435\n",
            "           1       0.93      0.92      0.93       232\n",
            "\n",
            "    accuracy                           0.95       667\n",
            "   macro avg       0.95      0.94      0.95       667\n",
            "weighted avg       0.95      0.95      0.95       667\n",
            "\n"
          ]
        }
      ]
    },
    {
      "cell_type": "code",
      "metadata": {
        "colab": {
          "base_uri": "https://localhost:8080/",
          "height": 111
        },
        "id": "euVJ5V8UYbjM",
        "outputId": "322b2287-603c-4474-a77a-e68dc84e4871"
      },
      "source": [
        "cm = confusion_matrix(y_val, forest_pred)\n",
        "pd.DataFrame(cm, index=model.named_steps[\"model\"].classes_, columns=model.named_steps[\"model\"].classes_)"
      ],
      "execution_count": 661,
      "outputs": [
        {
          "output_type": "execute_result",
          "data": {
            "text/html": [
              "<div>\n",
              "<style scoped>\n",
              "    .dataframe tbody tr th:only-of-type {\n",
              "        vertical-align: middle;\n",
              "    }\n",
              "\n",
              "    .dataframe tbody tr th {\n",
              "        vertical-align: top;\n",
              "    }\n",
              "\n",
              "    .dataframe thead th {\n",
              "        text-align: right;\n",
              "    }\n",
              "</style>\n",
              "<table border=\"1\" class=\"dataframe\">\n",
              "  <thead>\n",
              "    <tr style=\"text-align: right;\">\n",
              "      <th></th>\n",
              "      <th>0</th>\n",
              "      <th>1</th>\n",
              "    </tr>\n",
              "  </thead>\n",
              "  <tbody>\n",
              "    <tr>\n",
              "      <th>0</th>\n",
              "      <td>420</td>\n",
              "      <td>15</td>\n",
              "    </tr>\n",
              "    <tr>\n",
              "      <th>1</th>\n",
              "      <td>18</td>\n",
              "      <td>214</td>\n",
              "    </tr>\n",
              "  </tbody>\n",
              "</table>\n",
              "</div>"
            ],
            "text/plain": [
              "     0    1\n",
              "0  420   15\n",
              "1   18  214"
            ]
          },
          "metadata": {},
          "execution_count": 661
        }
      ]
    },
    {
      "cell_type": "code",
      "metadata": {
        "colab": {
          "base_uri": "https://localhost:8080/",
          "height": 0
        },
        "id": "Lf0Tw9VOWQlp",
        "outputId": "e888305e-00f5-438a-9638-87b44faf6cfd"
      },
      "source": [
        "forest_mse = mean_squared_error(y_val, forest_pred)\n",
        "print('MSE: {}'.format(forest_mse))"
      ],
      "execution_count": 662,
      "outputs": [
        {
          "output_type": "stream",
          "name": "stdout",
          "text": [
            "MSE: 0.049475262368815595\n"
          ]
        }
      ]
    },
    {
      "cell_type": "code",
      "metadata": {
        "id": "96EahgGJhnVB"
      },
      "source": [
        "models[\"Random_Forest\"] = {\"F1_Measure\" : f1_score(y_val, forest_pred, average=\"macro\"), \"Score\" : forest_score}"
      ],
      "execution_count": 663,
      "outputs": []
    },
    {
      "cell_type": "markdown",
      "metadata": {
        "id": "3TQoVlwgrPoM"
      },
      "source": [
        "## Confronto tra i modelli e scelta dei migliori"
      ]
    },
    {
      "cell_type": "markdown",
      "metadata": {
        "id": "gDG1xMqF1zmB"
      },
      "source": [
        "Per il confronto conclusivo tra i vari modelli si riportano di seguito i valori di F1 calcolati nella fase precedente e l'accuratezza sul validation set. Successivamente si rappresenta su un grafico a barre i valori di F1 per meglio notare le differenze tra i diversi modelli implementati."
      ]
    },
    {
      "cell_type": "code",
      "metadata": {
        "colab": {
          "base_uri": "https://localhost:8080/",
          "height": 235
        },
        "id": "5D5qy1clwaJz",
        "outputId": "fe2b79f4-63b7-48da-a366-622240ed11fa"
      },
      "source": [
        "reports = pd.DataFrame.from_dict(models)\n",
        "reports = reports.transpose()\n",
        "reports.sort_values(by=[\"F1_Measure\"], inplace=True)\n",
        "reports"
      ],
      "execution_count": 664,
      "outputs": [
        {
          "output_type": "execute_result",
          "data": {
            "text/html": [
              "<div>\n",
              "<style scoped>\n",
              "    .dataframe tbody tr th:only-of-type {\n",
              "        vertical-align: middle;\n",
              "    }\n",
              "\n",
              "    .dataframe tbody tr th {\n",
              "        vertical-align: top;\n",
              "    }\n",
              "\n",
              "    .dataframe thead th {\n",
              "        text-align: right;\n",
              "    }\n",
              "</style>\n",
              "<table border=\"1\" class=\"dataframe\">\n",
              "  <thead>\n",
              "    <tr style=\"text-align: right;\">\n",
              "      <th></th>\n",
              "      <th>F1_Measure</th>\n",
              "      <th>Score</th>\n",
              "    </tr>\n",
              "  </thead>\n",
              "  <tbody>\n",
              "    <tr>\n",
              "      <th>Perceptron</th>\n",
              "      <td>0.727004</td>\n",
              "      <td>0.742129</td>\n",
              "    </tr>\n",
              "    <tr>\n",
              "      <th>Poly_Perceptron</th>\n",
              "      <td>0.735632</td>\n",
              "      <td>0.760120</td>\n",
              "    </tr>\n",
              "    <tr>\n",
              "      <th>Logistic_Regression</th>\n",
              "      <td>0.765132</td>\n",
              "      <td>0.797601</td>\n",
              "    </tr>\n",
              "    <tr>\n",
              "      <th>SVM</th>\n",
              "      <td>0.868342</td>\n",
              "      <td>0.883058</td>\n",
              "    </tr>\n",
              "    <tr>\n",
              "      <th>Decision_Tree</th>\n",
              "      <td>0.917048</td>\n",
              "      <td>0.925037</td>\n",
              "    </tr>\n",
              "    <tr>\n",
              "      <th>Random_Forest</th>\n",
              "      <td>0.945308</td>\n",
              "      <td>0.950525</td>\n",
              "    </tr>\n",
              "  </tbody>\n",
              "</table>\n",
              "</div>"
            ],
            "text/plain": [
              "                     F1_Measure     Score\n",
              "Perceptron             0.727004  0.742129\n",
              "Poly_Perceptron        0.735632  0.760120\n",
              "Logistic_Regression    0.765132  0.797601\n",
              "SVM                    0.868342  0.883058\n",
              "Decision_Tree          0.917048  0.925037\n",
              "Random_Forest          0.945308  0.950525"
            ]
          },
          "metadata": {},
          "execution_count": 664
        }
      ]
    },
    {
      "cell_type": "code",
      "metadata": {
        "colab": {
          "base_uri": "https://localhost:8080/",
          "height": 546
        },
        "id": "CsgMphWHvv3-",
        "outputId": "16f17dc2-410b-4119-efe7-7394bc8c1934"
      },
      "source": [
        "axes = reports.plot.bar(y=\"F1_Measure\", xlabel=\"Models\", ylabel=\"F1_Measure\", title=\"F1 measures of test models\", figsize=(10,7))\n"
      ],
      "execution_count": 665,
      "outputs": [
        {
          "output_type": "display_data",
          "data": {
            "image/png": "[encoded data removed]",
            "text/plain": [
              "<Figure size 720x504 with 1 Axes>"
            ]
          },
          "metadata": {
            "needs_background": "light"
          }
        }
      ]
    },
    {
      "cell_type": "markdown",
      "metadata": {
        "id": "p9pk_GcQ27FI"
      },
      "source": [
        "Dopo un'attenta analisi dei risultati ottenuti, tenendo conto anche  dell'intervallo di confidenza individuato per ogni modello nella fase precedente, è possibile individuare tre modelli che riescono ad approssimare più efficacemente il problema. Questi sono SVM, Decision_Tree e Random_Forest. In linea di massima si osserva come i modelli più complessi riescono ad ottenere risultati migliori su questo problema. Probabilmente i modelli più semplici come ad esempio Perceptron non riescono ad ottenere un'approssimazione efficace del problema."
      ]
    },
    {
      "cell_type": "markdown",
      "metadata": {
        "id": "k3SIKu71YjX3"
      },
      "source": [
        "Per confrontare ulteriormente i 3 modelli selezionati, definiamo la seguente funzione che permette di confrontare due modelli per valutare se la differenza tra di essi sia statisticamente significativa o meno."
      ]
    },
    {
      "cell_type": "code",
      "metadata": {
        "id": "W1IUmHv8V8yQ"
      },
      "source": [
        "def model_comparison(mse_1, mse_2):\n",
        "    d = np.abs(mse_1 - mse_2)\n",
        "    variance = (mse_1 * (1 - mse_1)) / len(X_val) + (mse_2 * (1 - mse_2)) / len(X_val)\n",
        "    d_min = d - 1.96 * np.sqrt(variance)\n",
        "    d_max = d + 1.96 * np.sqrt(variance)\n",
        "    return (d_min, d_max)"
      ],
      "execution_count": 666,
      "outputs": []
    },
    {
      "cell_type": "markdown",
      "metadata": {
        "id": "1EguCiGBY7wr"
      },
      "source": [
        "Confronto tra **Decision Tree** e **Random Forest**\n",
        "\n",
        "In questo caso, poichè l'intervallo restituito contiene lo 0, la differenza è solo frutto del caso."
      ]
    },
    {
      "cell_type": "code",
      "metadata": {
        "colab": {
          "base_uri": "https://localhost:8080/",
          "height": 0
        },
        "id": "T-BBtNffXiRd",
        "outputId": "c78f10ab-463f-4409-c0ff-ea9b2f9b4bfa"
      },
      "source": [
        "print('Interval {}'.format(np.round(model_comparison(dt_mse, forest_mse), 4)))"
      ],
      "execution_count": 667,
      "outputs": [
        {
          "output_type": "stream",
          "name": "stdout",
          "text": [
            "Interval [-0.0004  0.0514]\n"
          ]
        }
      ]
    },
    {
      "cell_type": "markdown",
      "metadata": {
        "id": "f3D1UtV2ZECu"
      },
      "source": [
        "Confronto tra **Decision Tree** e **SVM**\n",
        "\n",
        "In questo caso invece la differenza è significativa: l'intervallo restituito NON contiene lo 0."
      ]
    },
    {
      "cell_type": "code",
      "metadata": {
        "colab": {
          "base_uri": "https://localhost:8080/",
          "height": 0
        },
        "id": "ViRGzTzfXu1J",
        "outputId": "971859f4-da9d-485d-abe0-d3284806e0f8"
      },
      "source": [
        "print('Interval {}'.format(np.round(model_comparison(svm_mse, dt_mse), 4)))"
      ],
      "execution_count": 668,
      "outputs": [
        {
          "output_type": "stream",
          "name": "stdout",
          "text": [
            "Interval [0.0104 0.0735]\n"
          ]
        }
      ]
    },
    {
      "cell_type": "markdown",
      "metadata": {
        "id": "40bMCxyt82Nv"
      },
      "source": [
        "Dovendo scegliere un modello migliore e ragionando in termini di efficienza la scelta ricade quindi sul **Decision Tree**. Questo modello permette infatti di ottenere ottimi risultati, con il vantaggio di un tempo di esecuzione ed una complessita inferiori rispetto a *Random Forest*, al quale risulta equivalente."
      ]
    },
    {
      "cell_type": "markdown",
      "metadata": {
        "id": "1XjdhT3XNt2T"
      },
      "source": [
        "**Interpretazione della conoscenza appresa dal modello**\n",
        "\n",
        "Uno dei vantaggi degli alberi decisionali è che spesso sono più facilmente interpretabili da una persona rispetto ad un insieme di coefficienti numerici.\n"
      ]
    },
    {
      "cell_type": "code",
      "metadata": {
        "colab": {
          "base_uri": "https://localhost:8080/",
          "height": 499
        },
        "id": "XY1WGGFo-nM3",
        "outputId": "6ce9bc4a-7014-44af-a56c-60ca2135e336"
      },
      "source": [
        "from sklearn.tree import plot_tree\n",
        "plt.figure(figsize=(23, 9))\n",
        "plot_tree(decision_tree_model_gs.best_estimator_[1], feature_names=X.columns, max_depth=3, filled=True);"
      ],
      "execution_count": 669,
      "outputs": [
        {
          "output_type": "display_data",
          "data": {
            "image/png": "[encoded data removed]",
            "text/plain": [
              "<Figure size 1656x648 with 1 Axes>"
            ]
          },
          "metadata": {
            "needs_background": "light"
          }
        }
      ]
    },
    {
      "cell_type": "code",
      "metadata": {
        "id": "nEwTwAl-RNDW"
      },
      "source": [
        "vars = [\"Pregnancies\", \"Glucose\", \"BloodPressure\", \"SkinThickness\", \"Insulin\", \"BMI\", \"DiabetesPedigreeFunction\", \"Age\"]"
      ],
      "execution_count": 670,
      "outputs": []
    },
    {
      "cell_type": "code",
      "metadata": {
        "colab": {
          "base_uri": "https://localhost:8080/",
          "height": 0
        },
        "id": "XetSDXCDOJ4i",
        "outputId": "e9878e05-8847-4aff-e058-a6b9e0388f87"
      },
      "source": [
        "from sklearn.tree import export_text\n",
        "print(export_text(decision_tree_model_gs.best_estimator_[1], feature_names=vars, max_depth=5,))"
      ],
      "execution_count": 671,
      "outputs": [
        {
          "output_type": "stream",
          "name": "stdout",
          "text": [
            "|--- Glucose <= 127.50\n",
            "|   |--- Age <= 28.50\n",
            "|   |   |--- BMI <= 45.40\n",
            "|   |   |   |--- Pregnancies <= 7.50\n",
            "|   |   |   |   |--- BMI <= 31.40\n",
            "|   |   |   |   |   |--- DiabetesPedigreeFunction <= 0.67\n",
            "|   |   |   |   |   |   |--- class: 0\n",
            "|   |   |   |   |   |--- DiabetesPedigreeFunction >  0.67\n",
            "|   |   |   |   |   |   |--- truncated branch of depth 2\n",
            "|   |   |   |   |--- BMI >  31.40\n",
            "|   |   |   |   |   |--- DiabetesPedigreeFunction <= 0.96\n",
            "|   |   |   |   |   |   |--- truncated branch of depth 5\n",
            "|   |   |   |   |   |--- DiabetesPedigreeFunction >  0.96\n",
            "|   |   |   |   |   |   |--- truncated branch of depth 2\n",
            "|   |   |   |--- Pregnancies >  7.50\n",
            "|   |   |   |   |--- class: 1\n",
            "|   |   |--- BMI >  45.40\n",
            "|   |   |   |--- DiabetesPedigreeFunction <= 0.69\n",
            "|   |   |   |   |--- class: 1\n",
            "|   |   |   |--- DiabetesPedigreeFunction >  0.69\n",
            "|   |   |   |   |--- class: 0\n",
            "|   |--- Age >  28.50\n",
            "|   |   |--- BMI <= 26.35\n",
            "|   |   |   |--- BMI <= 9.65\n",
            "|   |   |   |   |--- class: 1\n",
            "|   |   |   |--- BMI >  9.65\n",
            "|   |   |   |   |--- class: 0\n",
            "|   |   |--- BMI >  26.35\n",
            "|   |   |   |--- DiabetesPedigreeFunction <= 0.62\n",
            "|   |   |   |   |--- BloodPressure <= 67.00\n",
            "|   |   |   |   |   |--- Glucose <= 107.50\n",
            "|   |   |   |   |   |   |--- truncated branch of depth 4\n",
            "|   |   |   |   |   |--- Glucose >  107.50\n",
            "|   |   |   |   |   |   |--- class: 1\n",
            "|   |   |   |   |--- BloodPressure >  67.00\n",
            "|   |   |   |   |   |--- Pregnancies <= 1.50\n",
            "|   |   |   |   |   |   |--- truncated branch of depth 3\n",
            "|   |   |   |   |   |--- Pregnancies >  1.50\n",
            "|   |   |   |   |   |   |--- truncated branch of depth 5\n",
            "|   |   |   |--- DiabetesPedigreeFunction >  0.62\n",
            "|   |   |   |   |--- Pregnancies <= 4.50\n",
            "|   |   |   |   |   |--- Insulin <= 120.50\n",
            "|   |   |   |   |   |   |--- truncated branch of depth 3\n",
            "|   |   |   |   |   |--- Insulin >  120.50\n",
            "|   |   |   |   |   |   |--- truncated branch of depth 3\n",
            "|   |   |   |   |--- Pregnancies >  4.50\n",
            "|   |   |   |   |   |--- Glucose <= 122.50\n",
            "|   |   |   |   |   |   |--- truncated branch of depth 3\n",
            "|   |   |   |   |   |--- Glucose >  122.50\n",
            "|   |   |   |   |   |   |--- class: 0\n",
            "|--- Glucose >  127.50\n",
            "|   |--- BMI <= 29.95\n",
            "|   |   |--- Glucose <= 145.00\n",
            "|   |   |   |--- SkinThickness <= 28.50\n",
            "|   |   |   |   |--- Insulin <= 81.00\n",
            "|   |   |   |   |   |--- DiabetesPedigreeFunction <= 0.27\n",
            "|   |   |   |   |   |   |--- class: 0\n",
            "|   |   |   |   |   |--- DiabetesPedigreeFunction >  0.27\n",
            "|   |   |   |   |   |   |--- truncated branch of depth 4\n",
            "|   |   |   |   |--- Insulin >  81.00\n",
            "|   |   |   |   |   |--- class: 0\n",
            "|   |   |   |--- SkinThickness >  28.50\n",
            "|   |   |   |   |--- Pregnancies <= 3.50\n",
            "|   |   |   |   |   |--- class: 1\n",
            "|   |   |   |   |--- Pregnancies >  3.50\n",
            "|   |   |   |   |   |--- DiabetesPedigreeFunction <= 0.34\n",
            "|   |   |   |   |   |   |--- class: 1\n",
            "|   |   |   |   |   |--- DiabetesPedigreeFunction >  0.34\n",
            "|   |   |   |   |   |   |--- class: 0\n",
            "|   |   |--- Glucose >  145.00\n",
            "|   |   |   |--- Age <= 61.00\n",
            "|   |   |   |   |--- Age <= 25.50\n",
            "|   |   |   |   |   |--- class: 0\n",
            "|   |   |   |   |--- Age >  25.50\n",
            "|   |   |   |   |   |--- BMI <= 27.10\n",
            "|   |   |   |   |   |   |--- truncated branch of depth 2\n",
            "|   |   |   |   |   |--- BMI >  27.10\n",
            "|   |   |   |   |   |   |--- truncated branch of depth 4\n",
            "|   |   |   |--- Age >  61.00\n",
            "|   |   |   |   |--- class: 0\n",
            "|   |--- BMI >  29.95\n",
            "|   |   |--- Glucose <= 157.50\n",
            "|   |   |   |--- Age <= 30.50\n",
            "|   |   |   |   |--- BloodPressure <= 73.00\n",
            "|   |   |   |   |   |--- Pregnancies <= 0.50\n",
            "|   |   |   |   |   |   |--- class: 1\n",
            "|   |   |   |   |   |--- Pregnancies >  0.50\n",
            "|   |   |   |   |   |   |--- truncated branch of depth 4\n",
            "|   |   |   |   |--- BloodPressure >  73.00\n",
            "|   |   |   |   |   |--- BMI <= 43.40\n",
            "|   |   |   |   |   |   |--- truncated branch of depth 4\n",
            "|   |   |   |   |   |--- BMI >  43.40\n",
            "|   |   |   |   |   |   |--- truncated branch of depth 2\n",
            "|   |   |   |--- Age >  30.50\n",
            "|   |   |   |   |--- DiabetesPedigreeFunction <= 0.43\n",
            "|   |   |   |   |   |--- BMI <= 45.55\n",
            "|   |   |   |   |   |   |--- truncated branch of depth 5\n",
            "|   |   |   |   |   |--- BMI >  45.55\n",
            "|   |   |   |   |   |   |--- class: 1\n",
            "|   |   |   |   |--- DiabetesPedigreeFunction >  0.43\n",
            "|   |   |   |   |   |--- Insulin <= 333.50\n",
            "|   |   |   |   |   |   |--- truncated branch of depth 4\n",
            "|   |   |   |   |   |--- Insulin >  333.50\n",
            "|   |   |   |   |   |   |--- truncated branch of depth 2\n",
            "|   |   |--- Glucose >  157.50\n",
            "|   |   |   |--- BMI <= 46.10\n",
            "|   |   |   |   |--- DiabetesPedigreeFunction <= 1.43\n",
            "|   |   |   |   |   |--- BloodPressure <= 71.00\n",
            "|   |   |   |   |   |   |--- truncated branch of depth 5\n",
            "|   |   |   |   |   |--- BloodPressure >  71.00\n",
            "|   |   |   |   |   |   |--- truncated branch of depth 3\n",
            "|   |   |   |   |--- DiabetesPedigreeFunction >  1.43\n",
            "|   |   |   |   |   |--- Age <= 28.00\n",
            "|   |   |   |   |   |   |--- class: 1\n",
            "|   |   |   |   |   |--- Age >  28.00\n",
            "|   |   |   |   |   |   |--- class: 0\n",
            "|   |   |   |--- BMI >  46.10\n",
            "|   |   |   |   |--- Insulin <= 120.00\n",
            "|   |   |   |   |   |--- class: 1\n",
            "|   |   |   |   |--- Insulin >  120.00\n",
            "|   |   |   |   |   |--- class: 0\n",
            "\n"
          ]
        }
      ]
    },
    {
      "cell_type": "markdown",
      "metadata": {
        "id": "zyZdp69JSaH9"
      },
      "source": [
        "La rappresentazione dell'albero decisionale mostra infatti intuitivamente come il modello proceda con la classificazione:\n",
        "\n",
        "- Per prima cosa, considera la **concentrazione di glucosio** (`Glucose`)\n",
        "  - se **<= 127.50**, considera l'**età** (`Age`)\n",
        "  - altrimenti, se > 127.50, considera il **BMI** del paziente (`BMI`)\n",
        "\n",
        "E continua analogamente, con split successivi, fino che non è in grado di classificare.\n",
        "\n",
        "\n",
        "\n",
        "Osserviamo quindi le features che hanno contribuito maggiormente nella predizione."
      ]
    },
    {
      "cell_type": "code",
      "metadata": {
        "colab": {
          "base_uri": "https://localhost:8080/",
          "height": 0
        },
        "id": "SxHtkF27-aJ_",
        "outputId": "4528580f-8986-4051-e81f-7e753e096535"
      },
      "source": [
        "decision_tree_imp = pd.Series(decision_tree_model_gs.best_estimator_[1].feature_importances_, index=X_train.columns).sort_values(ascending=False)\n",
        "decision_tree_imp"
      ],
      "execution_count": 672,
      "outputs": [
        {
          "output_type": "execute_result",
          "data": {
            "text/plain": [
              "Glucose                     0.299380\n",
              "BMI                         0.194623\n",
              "Age                         0.126056\n",
              "DiabetesPedigreeFunction    0.119056\n",
              "BloodPressure               0.096836\n",
              "Pregnancies                 0.076947\n",
              "Insulin                     0.056743\n",
              "SkinThickness               0.030359\n",
              "dtype: float64"
            ]
          },
          "metadata": {},
          "execution_count": 672
        }
      ]
    },
    {
      "cell_type": "code",
      "metadata": {
        "colab": {
          "base_uri": "https://localhost:8080/",
          "height": 282
        },
        "id": "PAH5F6lXPOR_",
        "outputId": "69f5e9d2-8067-4d2f-ba7a-2b63bc0615d5"
      },
      "source": [
        "decision_tree_imp.head(4).plot(kind='barh')"
      ],
      "execution_count": 673,
      "outputs": [
        {
          "output_type": "execute_result",
          "data": {
            "text/plain": [
              "<matplotlib.axes._subplots.AxesSubplot at 0x7fbb15600ad0>"
            ]
          },
          "metadata": {},
          "execution_count": 673
        },
        {
          "output_type": "display_data",
          "data": {
            "image/png": "[encoded data removed]",
            "text/plain": [
              "<Figure size 432x288 with 1 Axes>"
            ]
          },
          "metadata": {
            "needs_background": "light"
          }
        }
      ]
    },
    {
      "cell_type": "markdown",
      "metadata": {
        "id": "DpyNIAG3UMqg"
      },
      "source": [
        "Coerentemente con quanto ci aspettavamo, la variabile maggiormente correlata con la presenza del diabete è la concentrazione di glucosio. \n",
        "\n",
        "Anche l'indice di massa corporea, l'età e la funzione che valuta la probabilità di diabete in base alla storia familiare hanno una notevole importanza, mentre variabili quali Insulina e Spessore della pelle sono praticamente irrilevanti."
      ]
    },
    {
      "cell_type": "markdown",
      "metadata": {
        "id": "9pfxxj_ucEL2"
      },
      "source": [
        "In conclusione, è possibile affermare che si è riuscito ad estrarre un modello di classificazione che consente di predire la presenza del diabete in un paziente con buona precisione e coerente con la realtà."
      ]
    }
  ]
}